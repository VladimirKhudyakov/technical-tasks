{
 "cells": [
  {
   "cell_type": "markdown",
   "metadata": {},
   "source": [
    "# Успешные платежи"
   ]
  },
  {
   "cell_type": "markdown",
   "metadata": {},
   "source": [
    "Имеются данные по платежам за 14 дней.\n",
    "\n",
    "Результат исследования позволит улучшить конверсию платежей (повысить % успешных платежей).\n",
    "\n",
    "**Цель исследования** -- провести исследовательский и статистический анализ данных:\n",
    "  1. Выяснить, почему % успешных платежей маленький.\n",
    "  2. Предложить варианты, как увеличить прохождение платежей.\n",
    "    \n",
    "**Исследование пройдёт в три этапа:**\n",
    " 1. Обзор данных;\n",
    " 2. Предобработка данных;\n",
    " 3. Исследовательский анализ данных."
   ]
  },
  {
   "cell_type": "markdown",
   "metadata": {},
   "source": [
    "## Обзор данных\n",
    "\n",
    "Составим первое представление о данных по платежам."
   ]
  },
  {
   "cell_type": "markdown",
   "metadata": {},
   "source": [
    "**1. Импортируем библиотеку pandas и другие. Считаем данные из csv-файла в датафрейм и сохраним в переменную `df`.**"
   ]
  },
  {
   "cell_type": "code",
   "execution_count": 1,
   "metadata": {},
   "outputs": [],
   "source": [
    "# обновим библиотеку 'pandas' до последней версии\n",
    "#!pip install --upgrade pandas\n",
    "\n",
    "# обновим библиотеку 'matplotlib' до последней версии\n",
    "#!pip install --upgrade matplotlib"
   ]
  },
  {
   "cell_type": "code",
   "execution_count": 2,
   "metadata": {},
   "outputs": [],
   "source": [
    "# импортируем библиотеку 'pandas'\n",
    "import pandas as pd\n",
    "\n",
    "# импортируем библиотеку 'matplotlib.pyplot' для построения графиков\n",
    "import matplotlib.pyplot as plt"
   ]
  },
  {
   "cell_type": "code",
   "execution_count": 3,
   "metadata": {},
   "outputs": [],
   "source": [
    "try:\n",
    "    # читаем данные из csv-файла и сохраняем их в виде датафрейма в 'df'\n",
    "    df = pd.read_csv('datasets/dataset.csv', engine='pyarrow', encoding='utf-8')\n",
    "except:\n",
    "    print('File not found.')"
   ]
  },
  {
   "cell_type": "markdown",
   "metadata": {},
   "source": [
    "**2. Выведем первые пять строчек датафрейма `df` на экран.**"
   ]
  },
  {
   "cell_type": "code",
   "execution_count": 4,
   "metadata": {},
   "outputs": [
    {
     "data": {
      "text/html": [
       "<div>\n",
       "<style scoped>\n",
       "    .dataframe tbody tr th:only-of-type {\n",
       "        vertical-align: middle;\n",
       "    }\n",
       "\n",
       "    .dataframe tbody tr th {\n",
       "        vertical-align: top;\n",
       "    }\n",
       "\n",
       "    .dataframe thead th {\n",
       "        text-align: right;\n",
       "    }\n",
       "</style>\n",
       "<table border=\"1\" class=\"dataframe\">\n",
       "  <thead>\n",
       "    <tr style=\"text-align: right;\">\n",
       "      <th></th>\n",
       "      <th>date</th>\n",
       "      <th>orderId</th>\n",
       "      <th>campaignId</th>\n",
       "      <th>payment service provider</th>\n",
       "      <th>customerId</th>\n",
       "      <th>country</th>\n",
       "      <th>billCycle</th>\n",
       "      <th>recycleNumber</th>\n",
       "      <th>merchantId</th>\n",
       "      <th>merchantName</th>\n",
       "      <th>...</th>\n",
       "      <th>custom1</th>\n",
       "      <th>custom2</th>\n",
       "      <th>custom3</th>\n",
       "      <th>product1 name</th>\n",
       "      <th>product1 id</th>\n",
       "      <th>product1 qty</th>\n",
       "      <th>product1 price</th>\n",
       "      <th>product1 discount</th>\n",
       "      <th>transactionId</th>\n",
       "      <th>cardExpiryDate</th>\n",
       "    </tr>\n",
       "  </thead>\n",
       "  <tbody>\n",
       "    <tr>\n",
       "      <th>0</th>\n",
       "      <td>2024-01-14 15:54:02</td>\n",
       "      <td>172A890908</td>\n",
       "      <td>9.0</td>\n",
       "      <td>Fib</td>\n",
       "      <td>47106.0</td>\n",
       "      <td>FR</td>\n",
       "      <td>5.0</td>\n",
       "      <td>0.0</td>\n",
       "      <td>7.0</td>\n",
       "      <td>Fib 1</td>\n",
       "      <td>...</td>\n",
       "      <td>177640.0</td>\n",
       "      <td>652454f90e8b980001db93d2</td>\n",
       "      <td>38</td>\n",
       "      <td>(3) Membership Plan 1</td>\n",
       "      <td>3.0</td>\n",
       "      <td>1.0</td>\n",
       "      <td>38.90</td>\n",
       "      <td>0.0</td>\n",
       "      <td>232406.0</td>\n",
       "      <td>2024-05-31 23:59:59</td>\n",
       "    </tr>\n",
       "    <tr>\n",
       "      <th>1</th>\n",
       "      <td>2024-01-14 3:11:21</td>\n",
       "      <td>C65958422F</td>\n",
       "      <td>9.0</td>\n",
       "      <td>Fib</td>\n",
       "      <td>44989.0</td>\n",
       "      <td>IT</td>\n",
       "      <td>7.0</td>\n",
       "      <td>2.0</td>\n",
       "      <td>5.0</td>\n",
       "      <td>Fib 2</td>\n",
       "      <td>...</td>\n",
       "      <td>173928.0</td>\n",
       "      <td>651732f055c3260001fbb370</td>\n",
       "      <td>38</td>\n",
       "      <td>(3) Membership Plan 2</td>\n",
       "      <td>3.0</td>\n",
       "      <td>1.0</td>\n",
       "      <td>18.67</td>\n",
       "      <td>0.0</td>\n",
       "      <td>232405.0</td>\n",
       "      <td>2028-02-29 23:59:59</td>\n",
       "    </tr>\n",
       "    <tr>\n",
       "      <th>2</th>\n",
       "      <td>2024-01-14 3:11:17</td>\n",
       "      <td>19A10E01DE</td>\n",
       "      <td>9.0</td>\n",
       "      <td>Fib</td>\n",
       "      <td>8945.0</td>\n",
       "      <td>IT</td>\n",
       "      <td>25.0</td>\n",
       "      <td>0.0</td>\n",
       "      <td>3.0</td>\n",
       "      <td>Fib 3</td>\n",
       "      <td>...</td>\n",
       "      <td>111821.0</td>\n",
       "      <td>63f24f7d8d162a000122e849</td>\n",
       "      <td>38</td>\n",
       "      <td>(3) Membership Plan 3</td>\n",
       "      <td>3.0</td>\n",
       "      <td>1.0</td>\n",
       "      <td>38.90</td>\n",
       "      <td>0.0</td>\n",
       "      <td>232404.0</td>\n",
       "      <td>2025-06-30 23:59:59</td>\n",
       "    </tr>\n",
       "    <tr>\n",
       "      <th>3</th>\n",
       "      <td>2024-01-14 3:11:13</td>\n",
       "      <td>12E232AFCE</td>\n",
       "      <td>9.0</td>\n",
       "      <td>Fib</td>\n",
       "      <td>11305.0</td>\n",
       "      <td>FR</td>\n",
       "      <td>17.0</td>\n",
       "      <td>0.0</td>\n",
       "      <td>4.0</td>\n",
       "      <td>Fib 4</td>\n",
       "      <td>...</td>\n",
       "      <td>116412.0</td>\n",
       "      <td>6413404cfd24f70001bd20ba</td>\n",
       "      <td>38</td>\n",
       "      <td>(3) Membership Plan</td>\n",
       "      <td>3.0</td>\n",
       "      <td>1.0</td>\n",
       "      <td>58.35</td>\n",
       "      <td>0.0</td>\n",
       "      <td>232403.0</td>\n",
       "      <td>2026-01-31 23:59:59</td>\n",
       "    </tr>\n",
       "    <tr>\n",
       "      <th>4</th>\n",
       "      <td>2024-01-14 3:11:09</td>\n",
       "      <td>61753A4E11</td>\n",
       "      <td>9.0</td>\n",
       "      <td>Fib</td>\n",
       "      <td>33583.0</td>\n",
       "      <td>PT</td>\n",
       "      <td>9.0</td>\n",
       "      <td>3.0</td>\n",
       "      <td>5.0</td>\n",
       "      <td>Fib 2</td>\n",
       "      <td>...</td>\n",
       "      <td>154776.0</td>\n",
       "      <td>64f9e28c4579870001af9abd</td>\n",
       "      <td>38</td>\n",
       "      <td>(3) Membership Plan 2</td>\n",
       "      <td>3.0</td>\n",
       "      <td>1.0</td>\n",
       "      <td>9.34</td>\n",
       "      <td>0.0</td>\n",
       "      <td>232402.0</td>\n",
       "      <td>2027-07-31 23:59:59</td>\n",
       "    </tr>\n",
       "  </tbody>\n",
       "</table>\n",
       "<p>5 rows × 41 columns</p>\n",
       "</div>"
      ],
      "text/plain": [
       "                  date     orderId  campaignId payment service provider  \\\n",
       "0  2024-01-14 15:54:02  172A890908         9.0                      Fib   \n",
       "1   2024-01-14 3:11:21  C65958422F         9.0                      Fib   \n",
       "2   2024-01-14 3:11:17  19A10E01DE         9.0                      Fib   \n",
       "3   2024-01-14 3:11:13  12E232AFCE         9.0                      Fib   \n",
       "4   2024-01-14 3:11:09  61753A4E11         9.0                      Fib   \n",
       "\n",
       "   customerId country  billCycle  recycleNumber  merchantId merchantName  ...  \\\n",
       "0     47106.0      FR        5.0            0.0         7.0        Fib 1  ...   \n",
       "1     44989.0      IT        7.0            2.0         5.0        Fib 2  ...   \n",
       "2      8945.0      IT       25.0            0.0         3.0        Fib 3  ...   \n",
       "3     11305.0      FR       17.0            0.0         4.0        Fib 4  ...   \n",
       "4     33583.0      PT        9.0            3.0         5.0        Fib 2  ...   \n",
       "\n",
       "    custom1                   custom2  custom3          product1 name  \\\n",
       "0  177640.0  652454f90e8b980001db93d2       38  (3) Membership Plan 1   \n",
       "1  173928.0  651732f055c3260001fbb370       38  (3) Membership Plan 2   \n",
       "2  111821.0  63f24f7d8d162a000122e849       38  (3) Membership Plan 3   \n",
       "3  116412.0  6413404cfd24f70001bd20ba       38    (3) Membership Plan   \n",
       "4  154776.0  64f9e28c4579870001af9abd       38  (3) Membership Plan 2   \n",
       "\n",
       "   product1 id product1 qty product1 price  product1 discount  transactionId  \\\n",
       "0          3.0          1.0          38.90                0.0       232406.0   \n",
       "1          3.0          1.0          18.67                0.0       232405.0   \n",
       "2          3.0          1.0          38.90                0.0       232404.0   \n",
       "3          3.0          1.0          58.35                0.0       232403.0   \n",
       "4          3.0          1.0           9.34                0.0       232402.0   \n",
       "\n",
       "       cardExpiryDate  \n",
       "0 2024-05-31 23:59:59  \n",
       "1 2028-02-29 23:59:59  \n",
       "2 2025-06-30 23:59:59  \n",
       "3 2026-01-31 23:59:59  \n",
       "4 2027-07-31 23:59:59  \n",
       "\n",
       "[5 rows x 41 columns]"
      ]
     },
     "execution_count": 4,
     "metadata": {},
     "output_type": "execute_result"
    }
   ],
   "source": [
    "# посмотрим первых пять строк датафрейма 'df'\n",
    "df.head()"
   ]
  },
  {
   "cell_type": "markdown",
   "metadata": {},
   "source": [
    "**3. Выведем основную информацию о датафрейме с помощью метода `info()`.**"
   ]
  },
  {
   "cell_type": "code",
   "execution_count": 5,
   "metadata": {},
   "outputs": [
    {
     "name": "stdout",
     "output_type": "stream",
     "text": [
      "<class 'pandas.core.frame.DataFrame'>\n",
      "RangeIndex: 1202 entries, 0 to 1201\n",
      "Data columns (total 41 columns):\n",
      " #   Column                    Non-Null Count  Dtype        \n",
      "---  ------                    --------------  -----        \n",
      " 0   date                      1202 non-null   object       \n",
      " 1   orderId                   1202 non-null   object       \n",
      " 2   campaignId                1201 non-null   float64      \n",
      " 3   payment service provider  1202 non-null   object       \n",
      " 4   customerId                1201 non-null   float64      \n",
      " 5   country                   1202 non-null   object       \n",
      " 6   billCycle                 1201 non-null   float64      \n",
      " 7   recycleNumber             1201 non-null   float64      \n",
      " 8   merchantId                1201 non-null   float64      \n",
      " 9   merchantName              1202 non-null   object       \n",
      " 10  gatewayTxnFee             1201 non-null   float64      \n",
      " 11  gatewayReserveRate        1201 non-null   float64      \n",
      " 12  gatewayDiscountRate       1201 non-null   float64      \n",
      " 13  isChargedback             1201 non-null   float64      \n",
      " 14  chargebackReasonCode      3 non-null      float64      \n",
      " 15  type                      1202 non-null   object       \n",
      " 16  amount                    1202 non-null   object       \n",
      " 17  shipPrice                 1202 non-null   float64      \n",
      " 18  salesTax                  1202 non-null   float64      \n",
      " 19  taxInv                    0 non-null      object       \n",
      " 20  result                    1202 non-null   object       \n",
      " 21  response                  1202 non-null   object       \n",
      " 22  mid                       1202 non-null   object       \n",
      " 23  txnId                     1202 non-null   object       \n",
      " 24  clientTxnId               1202 non-null   object       \n",
      " 25  paySource                 1202 non-null   object       \n",
      " 26  cardType                  1202 non-null   object       \n",
      " 27  creditDebit               1202 non-null   object       \n",
      " 28  cardBin                   1201 non-null   float64      \n",
      " 29  cardLast4                 1201 non-null   float64      \n",
      " 30  cardIsPrepaid             1201 non-null   float64      \n",
      " 31  custom1                   1201 non-null   float64      \n",
      " 32  custom2                   1202 non-null   object       \n",
      " 33  custom3                   1202 non-null   object       \n",
      " 34  product1 name             1202 non-null   object       \n",
      " 35  product1 id               1201 non-null   float64      \n",
      " 36  product1 qty              1201 non-null   float64      \n",
      " 37  product1 price            1201 non-null   float64      \n",
      " 38  product1 discount         1201 non-null   float64      \n",
      " 39  transactionId             1201 non-null   float64      \n",
      " 40  cardExpiryDate            1201 non-null   datetime64[s]\n",
      "dtypes: datetime64[s](1), float64(21), object(19)\n",
      "memory usage: 385.1+ KB\n"
     ]
    }
   ],
   "source": [
    "df.info()"
   ]
  },
  {
   "cell_type": "markdown",
   "metadata": {},
   "source": [
    "Итак, в таблице 41 столбец. Типы данных в столбцах — `object`, `float64` и `datetime64`.\n",
    "\n",
    "Интересующие нас признаки не содержат пропусков."
   ]
  },
  {
   "cell_type": "markdown",
   "metadata": {},
   "source": [
    "**4. Посмотрим статистическую информацию по каждому числовому столбцу таблицы, в датафрейме `df`.**"
   ]
  },
  {
   "cell_type": "code",
   "execution_count": 6,
   "metadata": {},
   "outputs": [
    {
     "data": {
      "text/html": [
       "<div>\n",
       "<style scoped>\n",
       "    .dataframe tbody tr th:only-of-type {\n",
       "        vertical-align: middle;\n",
       "    }\n",
       "\n",
       "    .dataframe tbody tr th {\n",
       "        vertical-align: top;\n",
       "    }\n",
       "\n",
       "    .dataframe thead th {\n",
       "        text-align: right;\n",
       "    }\n",
       "</style>\n",
       "<table border=\"1\" class=\"dataframe\">\n",
       "  <thead>\n",
       "    <tr style=\"text-align: right;\">\n",
       "      <th></th>\n",
       "      <th>campaignId</th>\n",
       "      <th>customerId</th>\n",
       "      <th>billCycle</th>\n",
       "      <th>recycleNumber</th>\n",
       "      <th>merchantId</th>\n",
       "      <th>gatewayTxnFee</th>\n",
       "      <th>gatewayReserveRate</th>\n",
       "      <th>gatewayDiscountRate</th>\n",
       "      <th>isChargedback</th>\n",
       "      <th>chargebackReasonCode</th>\n",
       "      <th>...</th>\n",
       "      <th>cardBin</th>\n",
       "      <th>cardLast4</th>\n",
       "      <th>cardIsPrepaid</th>\n",
       "      <th>custom1</th>\n",
       "      <th>product1 id</th>\n",
       "      <th>product1 qty</th>\n",
       "      <th>product1 price</th>\n",
       "      <th>product1 discount</th>\n",
       "      <th>transactionId</th>\n",
       "      <th>cardExpiryDate</th>\n",
       "    </tr>\n",
       "  </thead>\n",
       "  <tbody>\n",
       "    <tr>\n",
       "      <th>count</th>\n",
       "      <td>1201.000000</td>\n",
       "      <td>1201.000000</td>\n",
       "      <td>1201.000000</td>\n",
       "      <td>1201.000000</td>\n",
       "      <td>1201.000000</td>\n",
       "      <td>1201.0</td>\n",
       "      <td>1201.0</td>\n",
       "      <td>1201.000000</td>\n",
       "      <td>1201.000000</td>\n",
       "      <td>3.0</td>\n",
       "      <td>...</td>\n",
       "      <td>1201.000000</td>\n",
       "      <td>1201.000000</td>\n",
       "      <td>1201.000000</td>\n",
       "      <td>1201.000000</td>\n",
       "      <td>1201.0</td>\n",
       "      <td>1201.0</td>\n",
       "      <td>1201.000000</td>\n",
       "      <td>1201.0</td>\n",
       "      <td>1201.000000</td>\n",
       "      <td>1201</td>\n",
       "    </tr>\n",
       "    <tr>\n",
       "      <th>mean</th>\n",
       "      <td>12.109908</td>\n",
       "      <td>44492.391341</td>\n",
       "      <td>6.256453</td>\n",
       "      <td>1.240633</td>\n",
       "      <td>9.356370</td>\n",
       "      <td>0.0</td>\n",
       "      <td>0.0</td>\n",
       "      <td>0.044804</td>\n",
       "      <td>0.002498</td>\n",
       "      <td>4837.0</td>\n",
       "      <td>...</td>\n",
       "      <td>488608.429642</td>\n",
       "      <td>4925.154871</td>\n",
       "      <td>0.059117</td>\n",
       "      <td>175716.328893</td>\n",
       "      <td>3.0</td>\n",
       "      <td>1.0</td>\n",
       "      <td>32.400991</td>\n",
       "      <td>0.0</td>\n",
       "      <td>231806.000000</td>\n",
       "      <td>2027-04-13 09:30:42</td>\n",
       "    </tr>\n",
       "    <tr>\n",
       "      <th>min</th>\n",
       "      <td>9.000000</td>\n",
       "      <td>844.000000</td>\n",
       "      <td>1.000000</td>\n",
       "      <td>0.000000</td>\n",
       "      <td>1.000000</td>\n",
       "      <td>0.0</td>\n",
       "      <td>0.0</td>\n",
       "      <td>0.030000</td>\n",
       "      <td>0.000000</td>\n",
       "      <td>4837.0</td>\n",
       "      <td>...</td>\n",
       "      <td>402195.000000</td>\n",
       "      <td>8.000000</td>\n",
       "      <td>0.000000</td>\n",
       "      <td>99625.000000</td>\n",
       "      <td>3.0</td>\n",
       "      <td>1.0</td>\n",
       "      <td>1.500000</td>\n",
       "      <td>0.0</td>\n",
       "      <td>231206.000000</td>\n",
       "      <td>2023-12-31 23:59:59</td>\n",
       "    </tr>\n",
       "    <tr>\n",
       "      <th>25%</th>\n",
       "      <td>9.000000</td>\n",
       "      <td>37079.000000</td>\n",
       "      <td>3.000000</td>\n",
       "      <td>0.000000</td>\n",
       "      <td>5.000000</td>\n",
       "      <td>0.0</td>\n",
       "      <td>0.0</td>\n",
       "      <td>0.030000</td>\n",
       "      <td>0.000000</td>\n",
       "      <td>4837.0</td>\n",
       "      <td>...</td>\n",
       "      <td>453304.000000</td>\n",
       "      <td>2563.000000</td>\n",
       "      <td>0.000000</td>\n",
       "      <td>164465.000000</td>\n",
       "      <td>3.0</td>\n",
       "      <td>1.0</td>\n",
       "      <td>18.670000</td>\n",
       "      <td>0.0</td>\n",
       "      <td>231506.000000</td>\n",
       "      <td>2025-10-31 23:59:59</td>\n",
       "    </tr>\n",
       "    <tr>\n",
       "      <th>50%</th>\n",
       "      <td>13.000000</td>\n",
       "      <td>50425.000000</td>\n",
       "      <td>5.000000</td>\n",
       "      <td>1.000000</td>\n",
       "      <td>9.000000</td>\n",
       "      <td>0.0</td>\n",
       "      <td>0.0</td>\n",
       "      <td>0.035000</td>\n",
       "      <td>0.000000</td>\n",
       "      <td>4837.0</td>\n",
       "      <td>...</td>\n",
       "      <td>497355.000000</td>\n",
       "      <td>4877.000000</td>\n",
       "      <td>0.000000</td>\n",
       "      <td>185953.000000</td>\n",
       "      <td>3.0</td>\n",
       "      <td>1.0</td>\n",
       "      <td>31.120000</td>\n",
       "      <td>0.0</td>\n",
       "      <td>231806.000000</td>\n",
       "      <td>2026-10-31 23:59:59</td>\n",
       "    </tr>\n",
       "    <tr>\n",
       "      <th>75%</th>\n",
       "      <td>13.000000</td>\n",
       "      <td>54645.000000</td>\n",
       "      <td>9.000000</td>\n",
       "      <td>2.000000</td>\n",
       "      <td>13.000000</td>\n",
       "      <td>0.0</td>\n",
       "      <td>0.0</td>\n",
       "      <td>0.060000</td>\n",
       "      <td>0.000000</td>\n",
       "      <td>4837.0</td>\n",
       "      <td>...</td>\n",
       "      <td>530446.000000</td>\n",
       "      <td>7388.000000</td>\n",
       "      <td>0.000000</td>\n",
       "      <td>193421.000000</td>\n",
       "      <td>3.0</td>\n",
       "      <td>1.0</td>\n",
       "      <td>46.680000</td>\n",
       "      <td>0.0</td>\n",
       "      <td>232106.000000</td>\n",
       "      <td>2028-09-30 23:59:59</td>\n",
       "    </tr>\n",
       "    <tr>\n",
       "      <th>max</th>\n",
       "      <td>16.000000</td>\n",
       "      <td>55178.000000</td>\n",
       "      <td>31.000000</td>\n",
       "      <td>3.000000</td>\n",
       "      <td>20.000000</td>\n",
       "      <td>0.0</td>\n",
       "      <td>0.0</td>\n",
       "      <td>0.065000</td>\n",
       "      <td>1.000000</td>\n",
       "      <td>4837.0</td>\n",
       "      <td>...</td>\n",
       "      <td>561258.000000</td>\n",
       "      <td>9995.000000</td>\n",
       "      <td>1.000000</td>\n",
       "      <td>195627.000000</td>\n",
       "      <td>3.0</td>\n",
       "      <td>1.0</td>\n",
       "      <td>58.350000</td>\n",
       "      <td>0.0</td>\n",
       "      <td>232406.000000</td>\n",
       "      <td>2030-12-31 23:59:59</td>\n",
       "    </tr>\n",
       "    <tr>\n",
       "      <th>std</th>\n",
       "      <td>2.702390</td>\n",
       "      <td>12933.683816</td>\n",
       "      <td>4.865269</td>\n",
       "      <td>1.164566</td>\n",
       "      <td>5.331625</td>\n",
       "      <td>0.0</td>\n",
       "      <td>0.0</td>\n",
       "      <td>0.014628</td>\n",
       "      <td>0.049938</td>\n",
       "      <td>0.0</td>\n",
       "      <td>...</td>\n",
       "      <td>46739.814132</td>\n",
       "      <td>2892.642201</td>\n",
       "      <td>0.235943</td>\n",
       "      <td>22468.216390</td>\n",
       "      <td>0.0</td>\n",
       "      <td>0.0</td>\n",
       "      <td>16.594050</td>\n",
       "      <td>0.0</td>\n",
       "      <td>346.843144</td>\n",
       "      <td>NaN</td>\n",
       "    </tr>\n",
       "  </tbody>\n",
       "</table>\n",
       "<p>8 rows × 22 columns</p>\n",
       "</div>"
      ],
      "text/plain": [
       "        campaignId    customerId    billCycle  recycleNumber   merchantId  \\\n",
       "count  1201.000000   1201.000000  1201.000000    1201.000000  1201.000000   \n",
       "mean     12.109908  44492.391341     6.256453       1.240633     9.356370   \n",
       "min       9.000000    844.000000     1.000000       0.000000     1.000000   \n",
       "25%       9.000000  37079.000000     3.000000       0.000000     5.000000   \n",
       "50%      13.000000  50425.000000     5.000000       1.000000     9.000000   \n",
       "75%      13.000000  54645.000000     9.000000       2.000000    13.000000   \n",
       "max      16.000000  55178.000000    31.000000       3.000000    20.000000   \n",
       "std       2.702390  12933.683816     4.865269       1.164566     5.331625   \n",
       "\n",
       "       gatewayTxnFee  gatewayReserveRate  gatewayDiscountRate  isChargedback  \\\n",
       "count         1201.0              1201.0          1201.000000    1201.000000   \n",
       "mean             0.0                 0.0             0.044804       0.002498   \n",
       "min              0.0                 0.0             0.030000       0.000000   \n",
       "25%              0.0                 0.0             0.030000       0.000000   \n",
       "50%              0.0                 0.0             0.035000       0.000000   \n",
       "75%              0.0                 0.0             0.060000       0.000000   \n",
       "max              0.0                 0.0             0.065000       1.000000   \n",
       "std              0.0                 0.0             0.014628       0.049938   \n",
       "\n",
       "       chargebackReasonCode  ...        cardBin    cardLast4  cardIsPrepaid  \\\n",
       "count                   3.0  ...    1201.000000  1201.000000    1201.000000   \n",
       "mean                 4837.0  ...  488608.429642  4925.154871       0.059117   \n",
       "min                  4837.0  ...  402195.000000     8.000000       0.000000   \n",
       "25%                  4837.0  ...  453304.000000  2563.000000       0.000000   \n",
       "50%                  4837.0  ...  497355.000000  4877.000000       0.000000   \n",
       "75%                  4837.0  ...  530446.000000  7388.000000       0.000000   \n",
       "max                  4837.0  ...  561258.000000  9995.000000       1.000000   \n",
       "std                     0.0  ...   46739.814132  2892.642201       0.235943   \n",
       "\n",
       "             custom1  product1 id  product1 qty  product1 price  \\\n",
       "count    1201.000000       1201.0        1201.0     1201.000000   \n",
       "mean   175716.328893          3.0           1.0       32.400991   \n",
       "min     99625.000000          3.0           1.0        1.500000   \n",
       "25%    164465.000000          3.0           1.0       18.670000   \n",
       "50%    185953.000000          3.0           1.0       31.120000   \n",
       "75%    193421.000000          3.0           1.0       46.680000   \n",
       "max    195627.000000          3.0           1.0       58.350000   \n",
       "std     22468.216390          0.0           0.0       16.594050   \n",
       "\n",
       "       product1 discount  transactionId       cardExpiryDate  \n",
       "count             1201.0    1201.000000                 1201  \n",
       "mean                 0.0  231806.000000  2027-04-13 09:30:42  \n",
       "min                  0.0  231206.000000  2023-12-31 23:59:59  \n",
       "25%                  0.0  231506.000000  2025-10-31 23:59:59  \n",
       "50%                  0.0  231806.000000  2026-10-31 23:59:59  \n",
       "75%                  0.0  232106.000000  2028-09-30 23:59:59  \n",
       "max                  0.0  232406.000000  2030-12-31 23:59:59  \n",
       "std                  0.0     346.843144                  NaN  \n",
       "\n",
       "[8 rows x 22 columns]"
      ]
     },
     "execution_count": 6,
     "metadata": {},
     "output_type": "execute_result"
    }
   ],
   "source": [
    "# выведем статистическую информацию\n",
    "df.describe()"
   ]
  },
  {
   "cell_type": "markdown",
   "metadata": {},
   "source": [
    "**5. Создадим глобальную переменную для хранения размера исходного датасета.**"
   ]
  },
  {
   "cell_type": "code",
   "execution_count": 7,
   "metadata": {},
   "outputs": [],
   "source": [
    "source_dataset_size = df.shape[0]"
   ]
  },
  {
   "cell_type": "markdown",
   "metadata": {},
   "source": [
    "**Выводы**\n",
    "\n",
    "Предварительно можно утверждать, что данных достаточно для исследовательского анализа данных, но, возможно, дубликаты (явные/неявные) в данных. Признак `date` содержит неподходящий тип данных.\n",
    "\n",
    "Чтобы двигаться дальше, нужно устранить проблемы в данных."
   ]
  },
  {
   "cell_type": "markdown",
   "metadata": {},
   "source": [
    "## Предобработка данных\n",
    "\n",
    "\n",
    "Проверим данные на несоответствие типу и, при нахождении, изменим тип. Выполним категоризацию данных, при необходимости."
   ]
  },
  {
   "cell_type": "markdown",
   "metadata": {},
   "source": [
    "### Обработка аномальных значений\n",
    "\n",
    "В данных могут встречаться артефакты (аномалии) — значения, которые не отражают действительность и появились по какой-то ошибке."
   ]
  },
  {
   "cell_type": "markdown",
   "metadata": {},
   "source": [
    "**6. Выведем значение столбца `date` по индексу 1201.**"
   ]
  },
  {
   "cell_type": "code",
   "execution_count": 8,
   "metadata": {},
   "outputs": [
    {
     "data": {
      "text/plain": [
       "'Total'"
      ]
     },
     "execution_count": 8,
     "metadata": {},
     "output_type": "execute_result"
    }
   ],
   "source": [
    "df['date'].loc[1201]"
   ]
  },
  {
   "cell_type": "markdown",
   "metadata": {},
   "source": [
    "Значение аномальное. Его необходимо удалить из датафрема."
   ]
  },
  {
   "cell_type": "code",
   "execution_count": 9,
   "metadata": {},
   "outputs": [],
   "source": [
    "df.drop(index=1201, inplace=True)"
   ]
  },
  {
   "cell_type": "markdown",
   "metadata": {},
   "source": [
    "### Изменение типов данных"
   ]
  },
  {
   "cell_type": "markdown",
   "metadata": {},
   "source": [
    "**7. Посмотрим существующие типы данных для всех столбцов.**"
   ]
  },
  {
   "cell_type": "code",
   "execution_count": 10,
   "metadata": {},
   "outputs": [
    {
     "data": {
      "text/plain": [
       "date                               object\n",
       "orderId                            object\n",
       "campaignId                        float64\n",
       "payment service provider           object\n",
       "customerId                        float64\n",
       "country                            object\n",
       "billCycle                         float64\n",
       "recycleNumber                     float64\n",
       "merchantId                        float64\n",
       "merchantName                       object\n",
       "gatewayTxnFee                     float64\n",
       "gatewayReserveRate                float64\n",
       "gatewayDiscountRate               float64\n",
       "isChargedback                     float64\n",
       "chargebackReasonCode              float64\n",
       "type                               object\n",
       "amount                             object\n",
       "shipPrice                         float64\n",
       "salesTax                          float64\n",
       "taxInv                             object\n",
       "result                             object\n",
       "response                           object\n",
       "mid                                object\n",
       "txnId                              object\n",
       "clientTxnId                        object\n",
       "paySource                          object\n",
       "cardType                           object\n",
       "creditDebit                        object\n",
       "cardBin                           float64\n",
       "cardLast4                         float64\n",
       "cardIsPrepaid                     float64\n",
       "custom1                           float64\n",
       "custom2                            object\n",
       "custom3                            object\n",
       "product1 name                      object\n",
       "product1 id                       float64\n",
       "product1 qty                      float64\n",
       "product1 price                    float64\n",
       "product1 discount                 float64\n",
       "transactionId                     float64\n",
       "cardExpiryDate              datetime64[s]\n",
       "dtype: object"
      ]
     },
     "execution_count": 10,
     "metadata": {},
     "output_type": "execute_result"
    }
   ],
   "source": [
    "# выводим список всех столбцов таблицы и их типы\n",
    "df.dtypes"
   ]
  },
  {
   "cell_type": "markdown",
   "metadata": {},
   "source": [
    "Изменение типов данных требуется для:\n",
    "* `date` c типа `object` на тип `datetime64`."
   ]
  },
  {
   "cell_type": "markdown",
   "metadata": {},
   "source": [
    "**8. Заменим строковый тип данных `Object`, в столбце `date`, на тип данных `datetime64`.**"
   ]
  },
  {
   "cell_type": "code",
   "execution_count": 11,
   "metadata": {},
   "outputs": [],
   "source": [
    "df['date'] = pd.to_datetime(df['date'])"
   ]
  },
  {
   "cell_type": "markdown",
   "metadata": {},
   "source": [
    "**9. Проверим результат преобразования типов.**"
   ]
  },
  {
   "cell_type": "code",
   "execution_count": 12,
   "metadata": {},
   "outputs": [
    {
     "data": {
      "text/plain": [
       "date                        datetime64[ns]\n",
       "orderId                             object\n",
       "campaignId                         float64\n",
       "payment service provider            object\n",
       "customerId                         float64\n",
       "country                             object\n",
       "billCycle                          float64\n",
       "recycleNumber                      float64\n",
       "merchantId                         float64\n",
       "merchantName                        object\n",
       "gatewayTxnFee                      float64\n",
       "gatewayReserveRate                 float64\n",
       "gatewayDiscountRate                float64\n",
       "isChargedback                      float64\n",
       "chargebackReasonCode               float64\n",
       "type                                object\n",
       "amount                              object\n",
       "shipPrice                          float64\n",
       "salesTax                           float64\n",
       "taxInv                              object\n",
       "result                              object\n",
       "response                            object\n",
       "mid                                 object\n",
       "txnId                               object\n",
       "clientTxnId                         object\n",
       "paySource                           object\n",
       "cardType                            object\n",
       "creditDebit                         object\n",
       "cardBin                            float64\n",
       "cardLast4                          float64\n",
       "cardIsPrepaid                      float64\n",
       "custom1                            float64\n",
       "custom2                             object\n",
       "custom3                             object\n",
       "product1 name                       object\n",
       "product1 id                        float64\n",
       "product1 qty                       float64\n",
       "product1 price                     float64\n",
       "product1 discount                  float64\n",
       "transactionId                      float64\n",
       "cardExpiryDate               datetime64[s]\n",
       "dtype: object"
      ]
     },
     "execution_count": 12,
     "metadata": {},
     "output_type": "execute_result"
    }
   ],
   "source": [
    "# выводим список всех столбцов таблицы и их типы\n",
    "df.dtypes"
   ]
  },
  {
   "cell_type": "markdown",
   "metadata": {},
   "source": [
    "### Обработка дубликатов"
   ]
  },
  {
   "cell_type": "markdown",
   "metadata": {},
   "source": [
    "**10. Проверим датафрейм `df` на наличие дубликатов.**"
   ]
  },
  {
   "cell_type": "code",
   "execution_count": 13,
   "metadata": {},
   "outputs": [
    {
     "data": {
      "text/plain": [
       "0"
      ]
     },
     "execution_count": 13,
     "metadata": {},
     "output_type": "execute_result"
    }
   ],
   "source": [
    "# проверяем на наличие дубликатов\n",
    "df.duplicated().sum()"
   ]
  },
  {
   "cell_type": "markdown",
   "metadata": {},
   "source": [
    "**11. Проверим какая доля исходного датасета осталась после фильтрации.**"
   ]
  },
  {
   "cell_type": "code",
   "execution_count": 14,
   "metadata": {},
   "outputs": [
    {
     "data": {
      "text/plain": [
       "99.91680532445923"
      ]
     },
     "execution_count": 14,
     "metadata": {},
     "output_type": "execute_result"
    }
   ],
   "source": [
    "# рассчитаем размер доли исходного датасета 'df', которая осталась после фильтрации, в процентах\n",
    "(df.shape[0] / source_dataset_size) * 100"
   ]
  },
  {
   "cell_type": "markdown",
   "metadata": {},
   "source": [
    "### Создание новых признаков"
   ]
  },
  {
   "cell_type": "markdown",
   "metadata": {},
   "source": [
    "**12. На основе признака `date` создадим новые признаки.**"
   ]
  },
  {
   "cell_type": "code",
   "execution_count": 15,
   "metadata": {},
   "outputs": [],
   "source": [
    "df['date'] = pd.to_datetime(df['date'])\n",
    "df['day'] = df['date'].dt.day\n",
    "df['hour'] = df['date'].dt.hour\n",
    "df['minute'] = df['date'].dt.minute\n",
    "df['weekday'] = df['date'].dt.weekday"
   ]
  },
  {
   "cell_type": "markdown",
   "metadata": {},
   "source": [
    "**Выводы**\n",
    "\n",
    "Предобработка обнаружила следующие проблемы в данных:\n",
    "- аномальные значения (артефакты);\n",
    "- несоответствие типа значений хранимым данным.\n",
    "\n",
    "Удалили, артефакты (аномальные значения) в данных. Преобразовали типы данных из одного в другой, где это было необходимо. \n",
    "Создали новые признаки на основе существующего.\n",
    "\n",
    "Размер доли исходного датасета `df`, которая осталась после фильтрации: **`99.91680532445923 %`**.\n",
    "\n",
    "После такой предобработки данных, исследование станет более точным.\n",
    "\n",
    "Теперь можно перейти к исследовательскому анализу данных. "
   ]
  },
  {
   "cell_type": "markdown",
   "metadata": {},
   "source": [
    "## Исследовательский анализ данных"
   ]
  },
  {
   "cell_type": "markdown",
   "metadata": {},
   "source": [
    "**13. Посмотрим, сколько успешных и не успешных платежей.**"
   ]
  },
  {
   "cell_type": "code",
   "execution_count": 16,
   "metadata": {},
   "outputs": [
    {
     "data": {
      "text/plain": [
       "result\n",
       "Soft Decline    832\n",
       "Success         369\n",
       "Name: count, dtype: int64"
      ]
     },
     "execution_count": 16,
     "metadata": {},
     "output_type": "execute_result"
    }
   ],
   "source": [
    "df['result'].value_counts()"
   ]
  },
  {
   "cell_type": "markdown",
   "metadata": {},
   "source": [
    "**14. Создадим датафрейм `df_conversions_of_successful_payments` с данными по успешным платежам.**"
   ]
  },
  {
   "cell_type": "code",
   "execution_count": 17,
   "metadata": {},
   "outputs": [],
   "source": [
    "df_successful_payments = df[df['result'] == 'Success']"
   ]
  },
  {
   "cell_type": "markdown",
   "metadata": {},
   "source": [
    "**15. Посмотрим процент успешных платежей от общего числа платежей.**"
   ]
  },
  {
   "cell_type": "code",
   "execution_count": 18,
   "metadata": {},
   "outputs": [
    {
     "data": {
      "text/plain": [
       "30.724396336386345"
      ]
     },
     "execution_count": 18,
     "metadata": {},
     "output_type": "execute_result"
    }
   ],
   "source": [
    "# процент успешных платежей от общего числа\n",
    "df_successful_payments.shape[0] / df.shape[0] * 100"
   ]
  },
  {
   "cell_type": "markdown",
   "metadata": {},
   "source": [
    "**16. Найдем признак, который имеет абсолютно уникальные значения, для нашего исследования.**"
   ]
  },
  {
   "cell_type": "code",
   "execution_count": 19,
   "metadata": {},
   "outputs": [
    {
     "data": {
      "text/plain": [
       "454"
      ]
     },
     "execution_count": 19,
     "metadata": {},
     "output_type": "execute_result"
    }
   ],
   "source": [
    "df['orderId'].duplicated().sum()"
   ]
  },
  {
   "cell_type": "code",
   "execution_count": 20,
   "metadata": {},
   "outputs": [
    {
     "data": {
      "text/plain": [
       "1197"
      ]
     },
     "execution_count": 20,
     "metadata": {},
     "output_type": "execute_result"
    }
   ],
   "source": [
    "df['campaignId'].duplicated().sum()"
   ]
  },
  {
   "cell_type": "code",
   "execution_count": 21,
   "metadata": {},
   "outputs": [
    {
     "data": {
      "text/plain": [
       "523"
      ]
     },
     "execution_count": 21,
     "metadata": {},
     "output_type": "execute_result"
    }
   ],
   "source": [
    "df['customerId'].duplicated().sum()"
   ]
  },
  {
   "cell_type": "code",
   "execution_count": 22,
   "metadata": {},
   "outputs": [
    {
     "data": {
      "text/plain": [
       "1182"
      ]
     },
     "execution_count": 22,
     "metadata": {},
     "output_type": "execute_result"
    }
   ],
   "source": [
    "df['merchantId'].duplicated().sum()"
   ]
  },
  {
   "cell_type": "code",
   "execution_count": 23,
   "metadata": {},
   "outputs": [
    {
     "data": {
      "text/plain": [
       "823"
      ]
     },
     "execution_count": 23,
     "metadata": {},
     "output_type": "execute_result"
    }
   ],
   "source": [
    "df['txnId'].duplicated().sum()"
   ]
  },
  {
   "cell_type": "code",
   "execution_count": 24,
   "metadata": {},
   "outputs": [
    {
     "data": {
      "text/plain": [
       "0"
      ]
     },
     "execution_count": 24,
     "metadata": {},
     "output_type": "execute_result"
    }
   ],
   "source": [
    "df['clientTxnId'].duplicated().sum()"
   ]
  },
  {
   "cell_type": "code",
   "execution_count": 25,
   "metadata": {},
   "outputs": [
    {
     "data": {
      "text/plain": [
       "1200"
      ]
     },
     "execution_count": 25,
     "metadata": {},
     "output_type": "execute_result"
    }
   ],
   "source": [
    "df['product1 id'].duplicated().sum()"
   ]
  },
  {
   "cell_type": "code",
   "execution_count": 26,
   "metadata": {},
   "outputs": [
    {
     "data": {
      "text/plain": [
       "0"
      ]
     },
     "execution_count": 26,
     "metadata": {},
     "output_type": "execute_result"
    }
   ],
   "source": [
    "df['transactionId'].duplicated().sum()"
   ]
  },
  {
   "cell_type": "markdown",
   "metadata": {},
   "source": [
    "Выбираем признак `transactionId`."
   ]
  },
  {
   "cell_type": "markdown",
   "metadata": {},
   "source": [
    "**17. Проверим, сколько успешных платежей у каждого типа платежной системы карт.**\n",
    "\n",
    "Построим график зависимости - количество успешных платежей по типу платежной системы карты."
   ]
  },
  {
   "cell_type": "code",
   "execution_count": 27,
   "metadata": {},
   "outputs": [
    {
     "data": {
      "image/png": "[encoded data removed]",
      "text/plain": [
       "<Figure size 1400x700 with 1 Axes>"
      ]
     },
     "metadata": {},
     "output_type": "display_data"
    }
   ],
   "source": [
    "(df_successful_payments.groupby('cardType').agg(count=('transactionId', 'count'))\n",
    "    .sort_values(by='count', ascending=False)\n",
    "    .plot(kind='bar', \n",
    "          grid=True,\n",
    "          figsize=(14,7), \n",
    "          xlabel='Тип платежной системы карты',\n",
    "          ylabel='Количество успешных платежей',\n",
    "          title='Количество успешных платежей по типу платежной системы карты'));"
   ]
  },
  {
   "cell_type": "code",
   "execution_count": 28,
   "metadata": {},
   "outputs": [],
   "source": [
    "# определим функцию для построения таблицы конверсий для каждого признака\n",
    "def create_conversions_table(df, df_successful_payments, column_name):\n",
    "    df_total_counts_payments = df.groupby(column_name).agg(total_payments=('transactionId', 'count')).reset_index()\n",
    "    df_conversions_of_successful_payments =\\\n",
    "        df_successful_payments.groupby(column_name).agg(count=('transactionId', 'count')).reset_index()\n",
    "    \n",
    "    df_conversions_of_successful_payments =\\\n",
    "        (df_conversions_of_successful_payments.merge(right=df_total_counts_payments, how='left', on=column_name)\n",
    "         .assign(conversion=lambda x : x['count'] / x['total_payments'] * 100).sort_values(by='conversion', ascending=False))\n",
    "    \n",
    "    return df_conversions_of_successful_payments"
   ]
  },
  {
   "cell_type": "code",
   "execution_count": 29,
   "metadata": {},
   "outputs": [
    {
     "data": {
      "text/html": [
       "<div>\n",
       "<style scoped>\n",
       "    .dataframe tbody tr th:only-of-type {\n",
       "        vertical-align: middle;\n",
       "    }\n",
       "\n",
       "    .dataframe tbody tr th {\n",
       "        vertical-align: top;\n",
       "    }\n",
       "\n",
       "    .dataframe thead th {\n",
       "        text-align: right;\n",
       "    }\n",
       "</style>\n",
       "<table border=\"1\" class=\"dataframe\">\n",
       "  <thead>\n",
       "    <tr style=\"text-align: right;\">\n",
       "      <th></th>\n",
       "      <th>cardType</th>\n",
       "      <th>count</th>\n",
       "      <th>total_payments</th>\n",
       "      <th>conversion</th>\n",
       "    </tr>\n",
       "  </thead>\n",
       "  <tbody>\n",
       "    <tr>\n",
       "      <th>0</th>\n",
       "      <td>MASTERCARD</td>\n",
       "      <td>178</td>\n",
       "      <td>542</td>\n",
       "      <td>32.841328</td>\n",
       "    </tr>\n",
       "    <tr>\n",
       "      <th>1</th>\n",
       "      <td>VISA</td>\n",
       "      <td>191</td>\n",
       "      <td>659</td>\n",
       "      <td>28.983308</td>\n",
       "    </tr>\n",
       "  </tbody>\n",
       "</table>\n",
       "</div>"
      ],
      "text/plain": [
       "     cardType  count  total_payments  conversion\n",
       "0  MASTERCARD    178             542   32.841328\n",
       "1        VISA    191             659   28.983308"
      ]
     },
     "execution_count": 29,
     "metadata": {},
     "output_type": "execute_result"
    }
   ],
   "source": [
    "df_conversions_of_successful_payments = create_conversions_table(df, df_successful_payments, 'cardType')\n",
    "df_conversions_of_successful_payments"
   ]
  },
  {
   "cell_type": "markdown",
   "metadata": {},
   "source": [
    "**Выводы**\n",
    "\n",
    "Из графика и конверсий платежей, по каждому типу платежной системы, видно, что от типа платежной системы карты, существенно не зависит успешность платежа, но лучший тип платежной системы карты является `MASTERCARD`."
   ]
  },
  {
   "cell_type": "markdown",
   "metadata": {},
   "source": [
    "**18. Посмотрим, сколько успешных платежей у каждого поставщика платежных услуг.**"
   ]
  },
  {
   "cell_type": "code",
   "execution_count": 30,
   "metadata": {},
   "outputs": [
    {
     "data": {
      "image/png": "[encoded data removed]",
      "text/plain": [
       "<Figure size 1400x700 with 1 Axes>"
      ]
     },
     "metadata": {},
     "output_type": "display_data"
    }
   ],
   "source": [
    "(df_successful_payments.groupby('payment service provider').agg(count=('transactionId', 'count'))\n",
    "    .sort_values(by='count', ascending=False)\n",
    "    .plot(kind='bar', \n",
    "          grid=True,\n",
    "          figsize=(14,7), \n",
    "          xlabel='Поставщик платежных услуг',\n",
    "          ylabel='Количество усп. ешных платежей',\n",
    "          title='Количество успешных платежей по поставщикам платежных услуг'));"
   ]
  },
  {
   "cell_type": "code",
   "execution_count": 31,
   "metadata": {},
   "outputs": [
    {
     "data": {
      "text/html": [
       "<div>\n",
       "<style scoped>\n",
       "    .dataframe tbody tr th:only-of-type {\n",
       "        vertical-align: middle;\n",
       "    }\n",
       "\n",
       "    .dataframe tbody tr th {\n",
       "        vertical-align: top;\n",
       "    }\n",
       "\n",
       "    .dataframe thead th {\n",
       "        text-align: right;\n",
       "    }\n",
       "</style>\n",
       "<table border=\"1\" class=\"dataframe\">\n",
       "  <thead>\n",
       "    <tr style=\"text-align: right;\">\n",
       "      <th></th>\n",
       "      <th>payment service provider</th>\n",
       "      <th>count</th>\n",
       "      <th>total_payments</th>\n",
       "      <th>conversion</th>\n",
       "    </tr>\n",
       "  </thead>\n",
       "  <tbody>\n",
       "    <tr>\n",
       "      <th>0</th>\n",
       "      <td>EMP</td>\n",
       "      <td>30</td>\n",
       "      <td>77</td>\n",
       "      <td>38.961039</td>\n",
       "    </tr>\n",
       "    <tr>\n",
       "      <th>1</th>\n",
       "      <td>Fib</td>\n",
       "      <td>151</td>\n",
       "      <td>467</td>\n",
       "      <td>32.334047</td>\n",
       "    </tr>\n",
       "    <tr>\n",
       "      <th>2</th>\n",
       "      <td>Stream</td>\n",
       "      <td>136</td>\n",
       "      <td>442</td>\n",
       "      <td>30.769231</td>\n",
       "    </tr>\n",
       "    <tr>\n",
       "      <th>3</th>\n",
       "      <td>Stream UNL</td>\n",
       "      <td>52</td>\n",
       "      <td>215</td>\n",
       "      <td>24.186047</td>\n",
       "    </tr>\n",
       "  </tbody>\n",
       "</table>\n",
       "</div>"
      ],
      "text/plain": [
       "  payment service provider  count  total_payments  conversion\n",
       "0                      EMP     30              77   38.961039\n",
       "1                      Fib    151             467   32.334047\n",
       "2                   Stream    136             442   30.769231\n",
       "3               Stream UNL     52             215   24.186047"
      ]
     },
     "execution_count": 31,
     "metadata": {},
     "output_type": "execute_result"
    }
   ],
   "source": [
    "df_conversions_of_successful_payments = create_conversions_table(df, df_successful_payments, 'payment service provider')\n",
    "df_conversions_of_successful_payments"
   ]
  },
  {
   "cell_type": "markdown",
   "metadata": {},
   "source": [
    "**Выводы**\n",
    "\n",
    "Из конверсий платежей однозначно следует, что лучший поставщик платежных услуг: `EMP` c конверсией - **38.961038961038966 %**."
   ]
  },
  {
   "cell_type": "markdown",
   "metadata": {},
   "source": [
    "**19. Посмотрим, сколько успешных платежей у каждой страны.**"
   ]
  },
  {
   "cell_type": "code",
   "execution_count": 32,
   "metadata": {},
   "outputs": [
    {
     "data": {
      "image/png": "[encoded data removed]",
      "text/plain": [
       "<Figure size 1400x700 with 1 Axes>"
      ]
     },
     "metadata": {},
     "output_type": "display_data"
    }
   ],
   "source": [
    "(df_successful_payments.groupby('country').agg(count=('transactionId', 'count'))\n",
    "    .sort_values(by='count', ascending=False)\n",
    "    .plot(kind='bar', \n",
    "          grid=True,\n",
    "          figsize=(14,7), \n",
    "          xlabel='Страна',\n",
    "          ylabel='Количество успешных платежей',\n",
    "          title='Количество успешных платежей по странам'));"
   ]
  },
  {
   "cell_type": "code",
   "execution_count": 33,
   "metadata": {},
   "outputs": [
    {
     "data": {
      "text/html": [
       "<div>\n",
       "<style scoped>\n",
       "    .dataframe tbody tr th:only-of-type {\n",
       "        vertical-align: middle;\n",
       "    }\n",
       "\n",
       "    .dataframe tbody tr th {\n",
       "        vertical-align: top;\n",
       "    }\n",
       "\n",
       "    .dataframe thead th {\n",
       "        text-align: right;\n",
       "    }\n",
       "</style>\n",
       "<table border=\"1\" class=\"dataframe\">\n",
       "  <thead>\n",
       "    <tr style=\"text-align: right;\">\n",
       "      <th></th>\n",
       "      <th>country</th>\n",
       "      <th>count</th>\n",
       "      <th>total_payments</th>\n",
       "      <th>conversion</th>\n",
       "    </tr>\n",
       "  </thead>\n",
       "  <tbody>\n",
       "    <tr>\n",
       "      <th>4</th>\n",
       "      <td>RU</td>\n",
       "      <td>1</td>\n",
       "      <td>2</td>\n",
       "      <td>50.000000</td>\n",
       "    </tr>\n",
       "    <tr>\n",
       "      <th>1</th>\n",
       "      <td>FR</td>\n",
       "      <td>147</td>\n",
       "      <td>371</td>\n",
       "      <td>39.622642</td>\n",
       "    </tr>\n",
       "    <tr>\n",
       "      <th>2</th>\n",
       "      <td>IT</td>\n",
       "      <td>47</td>\n",
       "      <td>127</td>\n",
       "      <td>37.007874</td>\n",
       "    </tr>\n",
       "    <tr>\n",
       "      <th>3</th>\n",
       "      <td>PT</td>\n",
       "      <td>59</td>\n",
       "      <td>162</td>\n",
       "      <td>36.419753</td>\n",
       "    </tr>\n",
       "    <tr>\n",
       "      <th>0</th>\n",
       "      <td>ES</td>\n",
       "      <td>115</td>\n",
       "      <td>536</td>\n",
       "      <td>21.455224</td>\n",
       "    </tr>\n",
       "  </tbody>\n",
       "</table>\n",
       "</div>"
      ],
      "text/plain": [
       "  country  count  total_payments  conversion\n",
       "4      RU      1               2   50.000000\n",
       "1      FR    147             371   39.622642\n",
       "2      IT     47             127   37.007874\n",
       "3      PT     59             162   36.419753\n",
       "0      ES    115             536   21.455224"
      ]
     },
     "execution_count": 33,
     "metadata": {},
     "output_type": "execute_result"
    }
   ],
   "source": [
    "df_conversions_of_successful_payments = create_conversions_table(df, df_successful_payments, 'country')\n",
    "df_conversions_of_successful_payments"
   ]
  },
  {
   "cell_type": "markdown",
   "metadata": {},
   "source": [
    "**Выводы**\n",
    "\n",
    "Из конверсий платежей однозначно следует, что наиболее успешные платежи из страны: `RU`.\n",
    "Следует обратить внимание, что по стране `RU` слишком мало данных о платежах, всего две записи, чтобы делать выводы. Для более точного исследования, необходимо больше данных по платежам из страны `RU`. В рамках данного исследования, без дополнительных данных, лучше выбрать страну с лучшей конверсией платежей, у которой больше данных: `FR` с конверсией - **39.62264150943396 %**."
   ]
  },
  {
   "cell_type": "markdown",
   "metadata": {},
   "source": [
    "**20. Посмотрим, сколько успешных платежей в зависимости от продавца.**"
   ]
  },
  {
   "cell_type": "code",
   "execution_count": 34,
   "metadata": {},
   "outputs": [
    {
     "data": {
      "image/png": "[encoded data removed]",
      "text/plain": [
       "<Figure size 1400x700 with 1 Axes>"
      ]
     },
     "metadata": {},
     "output_type": "display_data"
    }
   ],
   "source": [
    "(df_successful_payments.groupby('merchantName').agg(count=('transactionId', 'count'))\n",
    "    .sort_values(by='count', ascending=False)\n",
    "    .plot(kind='bar', \n",
    "          grid=True,\n",
    "          figsize=(14,7), \n",
    "          xlabel='Продавец (mid)',\n",
    "          ylabel='Количество успешных платежей',\n",
    "          title='Количество успешных платежей в зависимости от продавца'));"
   ]
  },
  {
   "cell_type": "code",
   "execution_count": 35,
   "metadata": {},
   "outputs": [
    {
     "data": {
      "text/html": [
       "<div>\n",
       "<style scoped>\n",
       "    .dataframe tbody tr th:only-of-type {\n",
       "        vertical-align: middle;\n",
       "    }\n",
       "\n",
       "    .dataframe tbody tr th {\n",
       "        vertical-align: top;\n",
       "    }\n",
       "\n",
       "    .dataframe thead th {\n",
       "        text-align: right;\n",
       "    }\n",
       "</style>\n",
       "<table border=\"1\" class=\"dataframe\">\n",
       "  <thead>\n",
       "    <tr style=\"text-align: right;\">\n",
       "      <th></th>\n",
       "      <th>merchantName</th>\n",
       "      <th>count</th>\n",
       "      <th>total_payments</th>\n",
       "      <th>conversion</th>\n",
       "    </tr>\n",
       "  </thead>\n",
       "  <tbody>\n",
       "    <tr>\n",
       "      <th>17</th>\n",
       "      <td>Stream UNL 6</td>\n",
       "      <td>2</td>\n",
       "      <td>4</td>\n",
       "      <td>50.000000</td>\n",
       "    </tr>\n",
       "    <tr>\n",
       "      <th>11</th>\n",
       "      <td>Stream 6</td>\n",
       "      <td>2</td>\n",
       "      <td>4</td>\n",
       "      <td>50.000000</td>\n",
       "    </tr>\n",
       "    <tr>\n",
       "      <th>0</th>\n",
       "      <td>EMP 1</td>\n",
       "      <td>30</td>\n",
       "      <td>77</td>\n",
       "      <td>38.961039</td>\n",
       "    </tr>\n",
       "    <tr>\n",
       "      <th>8</th>\n",
       "      <td>Stream 3</td>\n",
       "      <td>28</td>\n",
       "      <td>74</td>\n",
       "      <td>37.837838</td>\n",
       "    </tr>\n",
       "    <tr>\n",
       "      <th>3</th>\n",
       "      <td>Fib 3</td>\n",
       "      <td>35</td>\n",
       "      <td>95</td>\n",
       "      <td>36.842105</td>\n",
       "    </tr>\n",
       "    <tr>\n",
       "      <th>2</th>\n",
       "      <td>Fib 2</td>\n",
       "      <td>35</td>\n",
       "      <td>107</td>\n",
       "      <td>32.710280</td>\n",
       "    </tr>\n",
       "    <tr>\n",
       "      <th>5</th>\n",
       "      <td>Fib 5</td>\n",
       "      <td>24</td>\n",
       "      <td>75</td>\n",
       "      <td>32.000000</td>\n",
       "    </tr>\n",
       "    <tr>\n",
       "      <th>4</th>\n",
       "      <td>Fib 4</td>\n",
       "      <td>37</td>\n",
       "      <td>117</td>\n",
       "      <td>31.623932</td>\n",
       "    </tr>\n",
       "    <tr>\n",
       "      <th>9</th>\n",
       "      <td>Stream 4</td>\n",
       "      <td>30</td>\n",
       "      <td>99</td>\n",
       "      <td>30.303030</td>\n",
       "    </tr>\n",
       "    <tr>\n",
       "      <th>6</th>\n",
       "      <td>Stream 1</td>\n",
       "      <td>33</td>\n",
       "      <td>110</td>\n",
       "      <td>30.000000</td>\n",
       "    </tr>\n",
       "    <tr>\n",
       "      <th>14</th>\n",
       "      <td>Stream UNL 3</td>\n",
       "      <td>12</td>\n",
       "      <td>40</td>\n",
       "      <td>30.000000</td>\n",
       "    </tr>\n",
       "    <tr>\n",
       "      <th>10</th>\n",
       "      <td>Stream 5</td>\n",
       "      <td>29</td>\n",
       "      <td>102</td>\n",
       "      <td>28.431373</td>\n",
       "    </tr>\n",
       "    <tr>\n",
       "      <th>1</th>\n",
       "      <td>Fib 1</td>\n",
       "      <td>20</td>\n",
       "      <td>71</td>\n",
       "      <td>28.169014</td>\n",
       "    </tr>\n",
       "    <tr>\n",
       "      <th>15</th>\n",
       "      <td>Stream UNL 4</td>\n",
       "      <td>9</td>\n",
       "      <td>34</td>\n",
       "      <td>26.470588</td>\n",
       "    </tr>\n",
       "    <tr>\n",
       "      <th>7</th>\n",
       "      <td>Stream 2</td>\n",
       "      <td>14</td>\n",
       "      <td>53</td>\n",
       "      <td>26.415094</td>\n",
       "    </tr>\n",
       "    <tr>\n",
       "      <th>13</th>\n",
       "      <td>Stream UNL 2</td>\n",
       "      <td>8</td>\n",
       "      <td>36</td>\n",
       "      <td>22.222222</td>\n",
       "    </tr>\n",
       "    <tr>\n",
       "      <th>12</th>\n",
       "      <td>Stream UNL 1</td>\n",
       "      <td>10</td>\n",
       "      <td>46</td>\n",
       "      <td>21.739130</td>\n",
       "    </tr>\n",
       "    <tr>\n",
       "      <th>16</th>\n",
       "      <td>Stream UNL 5</td>\n",
       "      <td>11</td>\n",
       "      <td>55</td>\n",
       "      <td>20.000000</td>\n",
       "    </tr>\n",
       "  </tbody>\n",
       "</table>\n",
       "</div>"
      ],
      "text/plain": [
       "    merchantName  count  total_payments  conversion\n",
       "17  Stream UNL 6      2               4   50.000000\n",
       "11      Stream 6      2               4   50.000000\n",
       "0          EMP 1     30              77   38.961039\n",
       "8       Stream 3     28              74   37.837838\n",
       "3          Fib 3     35              95   36.842105\n",
       "2          Fib 2     35             107   32.710280\n",
       "5          Fib 5     24              75   32.000000\n",
       "4          Fib 4     37             117   31.623932\n",
       "9       Stream 4     30              99   30.303030\n",
       "6       Stream 1     33             110   30.000000\n",
       "14  Stream UNL 3     12              40   30.000000\n",
       "10      Stream 5     29             102   28.431373\n",
       "1          Fib 1     20              71   28.169014\n",
       "15  Stream UNL 4      9              34   26.470588\n",
       "7       Stream 2     14              53   26.415094\n",
       "13  Stream UNL 2      8              36   22.222222\n",
       "12  Stream UNL 1     10              46   21.739130\n",
       "16  Stream UNL 5     11              55   20.000000"
      ]
     },
     "execution_count": 35,
     "metadata": {},
     "output_type": "execute_result"
    }
   ],
   "source": [
    "df_conversions_of_successful_payments = create_conversions_table(df, df_successful_payments, 'merchantName')\n",
    "df_conversions_of_successful_payments"
   ]
  },
  {
   "cell_type": "markdown",
   "metadata": {},
   "source": [
    "**Выводы**\n",
    "\n",
    "Из конверсий платежей однозначно следует, что наиболее успешные платежи с продавцами: `Stream UNL 6` и `Stream 6`.\n",
    "\n",
    "Следует обратить внимание, что по платежам с продавцами `Stream UNL 6` и `Stream 6` слишком мало данных, всего по четыре записи, чтобы делать выводы. Для более точного исследования, необходимо больше данных по платежам с продавцами `Stream UNL 6` и `Stream 6`. В рамках данного исследования, без дополнительных данных, лучше выбрать продавца с лучшей конверсией платежей, у которого больше данных: `EMP 1` - с конверсией **38.961039 %**."
   ]
  },
  {
   "cell_type": "markdown",
   "metadata": {},
   "source": [
    "**21. Посмотрим, сколько успешных платежей в зависимости от типа карты.**"
   ]
  },
  {
   "cell_type": "code",
   "execution_count": 36,
   "metadata": {},
   "outputs": [
    {
     "data": {
      "image/png": "[encoded data removed]",
      "text/plain": [
       "<Figure size 1400x700 with 1 Axes>"
      ]
     },
     "metadata": {},
     "output_type": "display_data"
    }
   ],
   "source": [
    "(df_successful_payments.groupby('creditDebit').agg(count=('transactionId', 'count'))\n",
    "    .sort_values(by='count', ascending=False)\n",
    "    .plot(kind='bar', \n",
    "          grid=True,\n",
    "          figsize=(14,7), \n",
    "          xlabel='Тип карты (дебетовая, кредитная)',\n",
    "          ylabel='Количество успешных платежей',\n",
    "          title='Количество успешных платежей в зависимости от типа карты (дебетовая, кредитная)'));"
   ]
  },
  {
   "cell_type": "code",
   "execution_count": 37,
   "metadata": {},
   "outputs": [
    {
     "data": {
      "text/html": [
       "<div>\n",
       "<style scoped>\n",
       "    .dataframe tbody tr th:only-of-type {\n",
       "        vertical-align: middle;\n",
       "    }\n",
       "\n",
       "    .dataframe tbody tr th {\n",
       "        vertical-align: top;\n",
       "    }\n",
       "\n",
       "    .dataframe thead th {\n",
       "        text-align: right;\n",
       "    }\n",
       "</style>\n",
       "<table border=\"1\" class=\"dataframe\">\n",
       "  <thead>\n",
       "    <tr style=\"text-align: right;\">\n",
       "      <th></th>\n",
       "      <th>creditDebit</th>\n",
       "      <th>count</th>\n",
       "      <th>total_payments</th>\n",
       "      <th>conversion</th>\n",
       "    </tr>\n",
       "  </thead>\n",
       "  <tbody>\n",
       "    <tr>\n",
       "      <th>0</th>\n",
       "      <td>Credit</td>\n",
       "      <td>59</td>\n",
       "      <td>154</td>\n",
       "      <td>38.311688</td>\n",
       "    </tr>\n",
       "    <tr>\n",
       "      <th>1</th>\n",
       "      <td>Debit</td>\n",
       "      <td>310</td>\n",
       "      <td>1047</td>\n",
       "      <td>29.608405</td>\n",
       "    </tr>\n",
       "  </tbody>\n",
       "</table>\n",
       "</div>"
      ],
      "text/plain": [
       "  creditDebit  count  total_payments  conversion\n",
       "0      Credit     59             154   38.311688\n",
       "1       Debit    310            1047   29.608405"
      ]
     },
     "execution_count": 37,
     "metadata": {},
     "output_type": "execute_result"
    }
   ],
   "source": [
    "df_conversions_of_successful_payments = create_conversions_table(df, df_successful_payments, 'creditDebit')\n",
    "df_conversions_of_successful_payments"
   ]
  },
  {
   "cell_type": "markdown",
   "metadata": {},
   "source": [
    "**Выводы**\n",
    "\n",
    "Из конверсий платежей однозначно следует, что наиболее успешные платежи выполняются с кредитных карт (конверсия - **38.311688 %**)."
   ]
  },
  {
   "cell_type": "markdown",
   "metadata": {},
   "source": [
    "**22. Посмотрим, какое количество успешных платежей в зависимости от BIN карты.**"
   ]
  },
  {
   "cell_type": "code",
   "execution_count": 38,
   "metadata": {},
   "outputs": [
    {
     "data": {
      "image/png": "[encoded data removed]",
      "text/plain": [
       "<Figure size 1400x700 with 1 Axes>"
      ]
     },
     "metadata": {},
     "output_type": "display_data"
    }
   ],
   "source": [
    "(df_successful_payments.groupby('cardBin').agg(count=('transactionId', 'count'))\n",
    "    .sort_values(by='count', ascending=False)\n",
    "    .plot(kind='bar', \n",
    "          grid=True,\n",
    "          figsize=(14,7), \n",
    "          xlabel='BIN карты',\n",
    "          ylabel='Количество успешных платежей',\n",
    "          title='Количество успешных платежей в зависимости от BIN карты'));"
   ]
  },
  {
   "cell_type": "code",
   "execution_count": 39,
   "metadata": {},
   "outputs": [
    {
     "data": {
      "text/html": [
       "<div>\n",
       "<style scoped>\n",
       "    .dataframe tbody tr th:only-of-type {\n",
       "        vertical-align: middle;\n",
       "    }\n",
       "\n",
       "    .dataframe tbody tr th {\n",
       "        vertical-align: top;\n",
       "    }\n",
       "\n",
       "    .dataframe thead th {\n",
       "        text-align: right;\n",
       "    }\n",
       "</style>\n",
       "<table border=\"1\" class=\"dataframe\">\n",
       "  <thead>\n",
       "    <tr style=\"text-align: right;\">\n",
       "      <th></th>\n",
       "      <th>cardBin</th>\n",
       "      <th>count</th>\n",
       "      <th>total_payments</th>\n",
       "      <th>conversion</th>\n",
       "    </tr>\n",
       "  </thead>\n",
       "  <tbody>\n",
       "    <tr>\n",
       "      <th>58</th>\n",
       "      <td>513142.0</td>\n",
       "      <td>4</td>\n",
       "      <td>4</td>\n",
       "      <td>100.000000</td>\n",
       "    </tr>\n",
       "    <tr>\n",
       "      <th>41</th>\n",
       "      <td>494119.0</td>\n",
       "      <td>1</td>\n",
       "      <td>1</td>\n",
       "      <td>100.000000</td>\n",
       "    </tr>\n",
       "    <tr>\n",
       "      <th>22</th>\n",
       "      <td>440644.0</td>\n",
       "      <td>2</td>\n",
       "      <td>2</td>\n",
       "      <td>100.000000</td>\n",
       "    </tr>\n",
       "    <tr>\n",
       "      <th>23</th>\n",
       "      <td>440646.0</td>\n",
       "      <td>1</td>\n",
       "      <td>1</td>\n",
       "      <td>100.000000</td>\n",
       "    </tr>\n",
       "    <tr>\n",
       "      <th>24</th>\n",
       "      <td>447149.0</td>\n",
       "      <td>2</td>\n",
       "      <td>2</td>\n",
       "      <td>100.000000</td>\n",
       "    </tr>\n",
       "    <tr>\n",
       "      <th>48</th>\n",
       "      <td>497380.0</td>\n",
       "      <td>1</td>\n",
       "      <td>1</td>\n",
       "      <td>100.000000</td>\n",
       "    </tr>\n",
       "    <tr>\n",
       "      <th>96</th>\n",
       "      <td>535610.0</td>\n",
       "      <td>1</td>\n",
       "      <td>1</td>\n",
       "      <td>100.000000</td>\n",
       "    </tr>\n",
       "    <tr>\n",
       "      <th>95</th>\n",
       "      <td>535570.0</td>\n",
       "      <td>1</td>\n",
       "      <td>1</td>\n",
       "      <td>100.000000</td>\n",
       "    </tr>\n",
       "    <tr>\n",
       "      <th>89</th>\n",
       "      <td>532131.0</td>\n",
       "      <td>1</td>\n",
       "      <td>1</td>\n",
       "      <td>100.000000</td>\n",
       "    </tr>\n",
       "    <tr>\n",
       "      <th>67</th>\n",
       "      <td>513641.0</td>\n",
       "      <td>1</td>\n",
       "      <td>1</td>\n",
       "      <td>100.000000</td>\n",
       "    </tr>\n",
       "    <tr>\n",
       "      <th>30</th>\n",
       "      <td>456933.0</td>\n",
       "      <td>1</td>\n",
       "      <td>1</td>\n",
       "      <td>100.000000</td>\n",
       "    </tr>\n",
       "    <tr>\n",
       "      <th>87</th>\n",
       "      <td>530482.0</td>\n",
       "      <td>1</td>\n",
       "      <td>1</td>\n",
       "      <td>100.000000</td>\n",
       "    </tr>\n",
       "    <tr>\n",
       "      <th>86</th>\n",
       "      <td>529556.0</td>\n",
       "      <td>1</td>\n",
       "      <td>1</td>\n",
       "      <td>100.000000</td>\n",
       "    </tr>\n",
       "    <tr>\n",
       "      <th>85</th>\n",
       "      <td>529204.0</td>\n",
       "      <td>2</td>\n",
       "      <td>2</td>\n",
       "      <td>100.000000</td>\n",
       "    </tr>\n",
       "    <tr>\n",
       "      <th>80</th>\n",
       "      <td>525610.0</td>\n",
       "      <td>2</td>\n",
       "      <td>2</td>\n",
       "      <td>100.000000</td>\n",
       "    </tr>\n",
       "    <tr>\n",
       "      <th>76</th>\n",
       "      <td>520942.0</td>\n",
       "      <td>2</td>\n",
       "      <td>2</td>\n",
       "      <td>100.000000</td>\n",
       "    </tr>\n",
       "    <tr>\n",
       "      <th>75</th>\n",
       "      <td>518176.0</td>\n",
       "      <td>1</td>\n",
       "      <td>1</td>\n",
       "      <td>100.000000</td>\n",
       "    </tr>\n",
       "    <tr>\n",
       "      <th>38</th>\n",
       "      <td>477598.0</td>\n",
       "      <td>4</td>\n",
       "      <td>4</td>\n",
       "      <td>100.000000</td>\n",
       "    </tr>\n",
       "    <tr>\n",
       "      <th>74</th>\n",
       "      <td>517909.0</td>\n",
       "      <td>1</td>\n",
       "      <td>1</td>\n",
       "      <td>100.000000</td>\n",
       "    </tr>\n",
       "    <tr>\n",
       "      <th>98</th>\n",
       "      <td>535677.0</td>\n",
       "      <td>1</td>\n",
       "      <td>1</td>\n",
       "      <td>100.000000</td>\n",
       "    </tr>\n",
       "    <tr>\n",
       "      <th>20</th>\n",
       "      <td>434994.0</td>\n",
       "      <td>2</td>\n",
       "      <td>2</td>\n",
       "      <td>100.000000</td>\n",
       "    </tr>\n",
       "    <tr>\n",
       "      <th>19</th>\n",
       "      <td>433514.0</td>\n",
       "      <td>2</td>\n",
       "      <td>2</td>\n",
       "      <td>100.000000</td>\n",
       "    </tr>\n",
       "    <tr>\n",
       "      <th>10</th>\n",
       "      <td>417657.0</td>\n",
       "      <td>1</td>\n",
       "      <td>1</td>\n",
       "      <td>100.000000</td>\n",
       "    </tr>\n",
       "    <tr>\n",
       "      <th>56</th>\n",
       "      <td>513127.0</td>\n",
       "      <td>2</td>\n",
       "      <td>2</td>\n",
       "      <td>100.000000</td>\n",
       "    </tr>\n",
       "    <tr>\n",
       "      <th>3</th>\n",
       "      <td>412522.0</td>\n",
       "      <td>1</td>\n",
       "      <td>1</td>\n",
       "      <td>100.000000</td>\n",
       "    </tr>\n",
       "    <tr>\n",
       "      <th>4</th>\n",
       "      <td>412524.0</td>\n",
       "      <td>1</td>\n",
       "      <td>1</td>\n",
       "      <td>100.000000</td>\n",
       "    </tr>\n",
       "    <tr>\n",
       "      <th>5</th>\n",
       "      <td>413843.0</td>\n",
       "      <td>4</td>\n",
       "      <td>4</td>\n",
       "      <td>100.000000</td>\n",
       "    </tr>\n",
       "    <tr>\n",
       "      <th>62</th>\n",
       "      <td>513239.0</td>\n",
       "      <td>2</td>\n",
       "      <td>2</td>\n",
       "      <td>100.000000</td>\n",
       "    </tr>\n",
       "    <tr>\n",
       "      <th>8</th>\n",
       "      <td>416081.0</td>\n",
       "      <td>2</td>\n",
       "      <td>2</td>\n",
       "      <td>100.000000</td>\n",
       "    </tr>\n",
       "    <tr>\n",
       "      <th>99</th>\n",
       "      <td>535681.0</td>\n",
       "      <td>1</td>\n",
       "      <td>1</td>\n",
       "      <td>100.000000</td>\n",
       "    </tr>\n",
       "    <tr>\n",
       "      <th>64</th>\n",
       "      <td>513286.0</td>\n",
       "      <td>1</td>\n",
       "      <td>1</td>\n",
       "      <td>100.000000</td>\n",
       "    </tr>\n",
       "    <tr>\n",
       "      <th>108</th>\n",
       "      <td>540542.0</td>\n",
       "      <td>1</td>\n",
       "      <td>1</td>\n",
       "      <td>100.000000</td>\n",
       "    </tr>\n",
       "    <tr>\n",
       "      <th>12</th>\n",
       "      <td>421102.0</td>\n",
       "      <td>1</td>\n",
       "      <td>1</td>\n",
       "      <td>100.000000</td>\n",
       "    </tr>\n",
       "    <tr>\n",
       "      <th>106</th>\n",
       "      <td>540246.0</td>\n",
       "      <td>1</td>\n",
       "      <td>1</td>\n",
       "      <td>100.000000</td>\n",
       "    </tr>\n",
       "    <tr>\n",
       "      <th>14</th>\n",
       "      <td>424586.0</td>\n",
       "      <td>2</td>\n",
       "      <td>2</td>\n",
       "      <td>100.000000</td>\n",
       "    </tr>\n",
       "    <tr>\n",
       "      <th>66</th>\n",
       "      <td>513640.0</td>\n",
       "      <td>1</td>\n",
       "      <td>1</td>\n",
       "      <td>100.000000</td>\n",
       "    </tr>\n",
       "    <tr>\n",
       "      <th>49</th>\n",
       "      <td>497696.0</td>\n",
       "      <td>1</td>\n",
       "      <td>1</td>\n",
       "      <td>100.000000</td>\n",
       "    </tr>\n",
       "    <tr>\n",
       "      <th>100</th>\n",
       "      <td>537572.0</td>\n",
       "      <td>1</td>\n",
       "      <td>1</td>\n",
       "      <td>100.000000</td>\n",
       "    </tr>\n",
       "    <tr>\n",
       "      <th>69</th>\n",
       "      <td>513690.0</td>\n",
       "      <td>1</td>\n",
       "      <td>1</td>\n",
       "      <td>100.000000</td>\n",
       "    </tr>\n",
       "    <tr>\n",
       "      <th>61</th>\n",
       "      <td>513165.0</td>\n",
       "      <td>3</td>\n",
       "      <td>4</td>\n",
       "      <td>75.000000</td>\n",
       "    </tr>\n",
       "    <tr>\n",
       "      <th>68</th>\n",
       "      <td>513646.0</td>\n",
       "      <td>3</td>\n",
       "      <td>4</td>\n",
       "      <td>75.000000</td>\n",
       "    </tr>\n",
       "    <tr>\n",
       "      <th>29</th>\n",
       "      <td>454703.0</td>\n",
       "      <td>6</td>\n",
       "      <td>8</td>\n",
       "      <td>75.000000</td>\n",
       "    </tr>\n",
       "    <tr>\n",
       "      <th>73</th>\n",
       "      <td>516795.0</td>\n",
       "      <td>12</td>\n",
       "      <td>16</td>\n",
       "      <td>75.000000</td>\n",
       "    </tr>\n",
       "    <tr>\n",
       "      <th>7</th>\n",
       "      <td>415159.0</td>\n",
       "      <td>5</td>\n",
       "      <td>7</td>\n",
       "      <td>71.428571</td>\n",
       "    </tr>\n",
       "    <tr>\n",
       "      <th>70</th>\n",
       "      <td>513770.0</td>\n",
       "      <td>11</td>\n",
       "      <td>16</td>\n",
       "      <td>68.750000</td>\n",
       "    </tr>\n",
       "    <tr>\n",
       "      <th>43</th>\n",
       "      <td>497043.0</td>\n",
       "      <td>8</td>\n",
       "      <td>12</td>\n",
       "      <td>66.666667</td>\n",
       "    </tr>\n",
       "    <tr>\n",
       "      <th>63</th>\n",
       "      <td>513283.0</td>\n",
       "      <td>2</td>\n",
       "      <td>3</td>\n",
       "      <td>66.666667</td>\n",
       "    </tr>\n",
       "    <tr>\n",
       "      <th>110</th>\n",
       "      <td>541557.0</td>\n",
       "      <td>2</td>\n",
       "      <td>3</td>\n",
       "      <td>66.666667</td>\n",
       "    </tr>\n",
       "    <tr>\n",
       "      <th>114</th>\n",
       "      <td>553979.0</td>\n",
       "      <td>2</td>\n",
       "      <td>3</td>\n",
       "      <td>66.666667</td>\n",
       "    </tr>\n",
       "    <tr>\n",
       "      <th>15</th>\n",
       "      <td>426150.0</td>\n",
       "      <td>6</td>\n",
       "      <td>10</td>\n",
       "      <td>60.000000</td>\n",
       "    </tr>\n",
       "  </tbody>\n",
       "</table>\n",
       "</div>"
      ],
      "text/plain": [
       "      cardBin  count  total_payments  conversion\n",
       "58   513142.0      4               4  100.000000\n",
       "41   494119.0      1               1  100.000000\n",
       "22   440644.0      2               2  100.000000\n",
       "23   440646.0      1               1  100.000000\n",
       "24   447149.0      2               2  100.000000\n",
       "48   497380.0      1               1  100.000000\n",
       "96   535610.0      1               1  100.000000\n",
       "95   535570.0      1               1  100.000000\n",
       "89   532131.0      1               1  100.000000\n",
       "67   513641.0      1               1  100.000000\n",
       "30   456933.0      1               1  100.000000\n",
       "87   530482.0      1               1  100.000000\n",
       "86   529556.0      1               1  100.000000\n",
       "85   529204.0      2               2  100.000000\n",
       "80   525610.0      2               2  100.000000\n",
       "76   520942.0      2               2  100.000000\n",
       "75   518176.0      1               1  100.000000\n",
       "38   477598.0      4               4  100.000000\n",
       "74   517909.0      1               1  100.000000\n",
       "98   535677.0      1               1  100.000000\n",
       "20   434994.0      2               2  100.000000\n",
       "19   433514.0      2               2  100.000000\n",
       "10   417657.0      1               1  100.000000\n",
       "56   513127.0      2               2  100.000000\n",
       "3    412522.0      1               1  100.000000\n",
       "4    412524.0      1               1  100.000000\n",
       "5    413843.0      4               4  100.000000\n",
       "62   513239.0      2               2  100.000000\n",
       "8    416081.0      2               2  100.000000\n",
       "99   535681.0      1               1  100.000000\n",
       "64   513286.0      1               1  100.000000\n",
       "108  540542.0      1               1  100.000000\n",
       "12   421102.0      1               1  100.000000\n",
       "106  540246.0      1               1  100.000000\n",
       "14   424586.0      2               2  100.000000\n",
       "66   513640.0      1               1  100.000000\n",
       "49   497696.0      1               1  100.000000\n",
       "100  537572.0      1               1  100.000000\n",
       "69   513690.0      1               1  100.000000\n",
       "61   513165.0      3               4   75.000000\n",
       "68   513646.0      3               4   75.000000\n",
       "29   454703.0      6               8   75.000000\n",
       "73   516795.0     12              16   75.000000\n",
       "7    415159.0      5               7   71.428571\n",
       "70   513770.0     11              16   68.750000\n",
       "43   497043.0      8              12   66.666667\n",
       "63   513283.0      2               3   66.666667\n",
       "110  541557.0      2               3   66.666667\n",
       "114  553979.0      2               3   66.666667\n",
       "15   426150.0      6              10   60.000000"
      ]
     },
     "execution_count": 39,
     "metadata": {},
     "output_type": "execute_result"
    }
   ],
   "source": [
    "df_conversions_of_successful_payments = create_conversions_table(df, df_successful_payments, 'cardBin')\n",
    "df_conversions_of_successful_payments.head(50)"
   ]
  },
  {
   "cell_type": "markdown",
   "metadata": {},
   "source": [
    "**Выводы**\n",
    "\n",
    "Из конверсий платежей однозначно следует, что наиболее успешные платежи выполняются с первых 39 банковских карт, с определенными BIN, которые указаны в таблице выше (конверсия - **100%**). Необходимо учитывать, что по ним мало данных и лучше использовать банковские карты, с определенными BIN, с меньшей конверсией, но с более точной (рассчитана на достаточном наборе данных)."
   ]
  },
  {
   "cell_type": "markdown",
   "metadata": {},
   "source": [
    "**23. Посмотрим, какое количество успешных платежей в зависимости от типа карты (предоплаченая карта или нет).**"
   ]
  },
  {
   "cell_type": "code",
   "execution_count": 40,
   "metadata": {},
   "outputs": [
    {
     "data": {
      "image/png": "[encoded data removed]",
      "text/plain": [
       "<Figure size 1400x700 with 1 Axes>"
      ]
     },
     "metadata": {},
     "output_type": "display_data"
    }
   ],
   "source": [
    "(df_successful_payments.groupby('cardIsPrepaid').agg(count=('transactionId', 'count'))\n",
    "    .sort_values(by='count', ascending=False)\n",
    "    .plot(kind='bar', \n",
    "          grid=True,\n",
    "          figsize=(14,7), \n",
    "          xlabel='Тип карты (предоплаченная или нет)',\n",
    "          ylabel='Количество успешных платежей',\n",
    "          title='Количество успешных платежей в зависимости от типа карты (предоплаченая карта или нет)'));"
   ]
  },
  {
   "cell_type": "code",
   "execution_count": 41,
   "metadata": {},
   "outputs": [
    {
     "data": {
      "text/html": [
       "<div>\n",
       "<style scoped>\n",
       "    .dataframe tbody tr th:only-of-type {\n",
       "        vertical-align: middle;\n",
       "    }\n",
       "\n",
       "    .dataframe tbody tr th {\n",
       "        vertical-align: top;\n",
       "    }\n",
       "\n",
       "    .dataframe thead th {\n",
       "        text-align: right;\n",
       "    }\n",
       "</style>\n",
       "<table border=\"1\" class=\"dataframe\">\n",
       "  <thead>\n",
       "    <tr style=\"text-align: right;\">\n",
       "      <th></th>\n",
       "      <th>cardIsPrepaid</th>\n",
       "      <th>count</th>\n",
       "      <th>total_payments</th>\n",
       "      <th>conversion</th>\n",
       "    </tr>\n",
       "  </thead>\n",
       "  <tbody>\n",
       "    <tr>\n",
       "      <th>0</th>\n",
       "      <td>0.0</td>\n",
       "      <td>356</td>\n",
       "      <td>1130</td>\n",
       "      <td>31.504425</td>\n",
       "    </tr>\n",
       "    <tr>\n",
       "      <th>1</th>\n",
       "      <td>1.0</td>\n",
       "      <td>13</td>\n",
       "      <td>71</td>\n",
       "      <td>18.309859</td>\n",
       "    </tr>\n",
       "  </tbody>\n",
       "</table>\n",
       "</div>"
      ],
      "text/plain": [
       "   cardIsPrepaid  count  total_payments  conversion\n",
       "0            0.0    356            1130   31.504425\n",
       "1            1.0     13              71   18.309859"
      ]
     },
     "execution_count": 41,
     "metadata": {},
     "output_type": "execute_result"
    }
   ],
   "source": [
    "df_conversions_of_successful_payments = create_conversions_table(df, df_successful_payments, 'cardIsPrepaid')\n",
    "df_conversions_of_successful_payments"
   ]
  },
  {
   "cell_type": "markdown",
   "metadata": {},
   "source": [
    "**Выводы**"
   ]
  },
  {
   "cell_type": "markdown",
   "metadata": {},
   "source": [
    "Из конверсий платежей однозначно следует, что наиболее успешные платежи выполняются с не предоплаченных карт (конверсия - **31.504425 %**)."
   ]
  },
  {
   "cell_type": "markdown",
   "metadata": {},
   "source": [
    "**24. Посмотрим, какое количество успешных платежей в зависимости от значения признака `custom3`.**"
   ]
  },
  {
   "cell_type": "code",
   "execution_count": 42,
   "metadata": {},
   "outputs": [
    {
     "data": {
      "image/png": "[encoded data removed]",
      "text/plain": [
       "<Figure size 1400x700 with 1 Axes>"
      ]
     },
     "metadata": {},
     "output_type": "display_data"
    }
   ],
   "source": [
    "(df_successful_payments.groupby('custom3').agg(count=('transactionId', 'count'))\n",
    "    .sort_values(by='count', ascending=False)\n",
    "    .plot(kind='bar', \n",
    "          grid=True,\n",
    "          figsize=(14,7), \n",
    "          xlabel='Признак платежа \\'custom3\\' ',\n",
    "          ylabel='Количество успешных платежей',\n",
    "          title='Количество успешных платежей в зависимости от значения признака платежа \\'custom3\\''));"
   ]
  },
  {
   "cell_type": "code",
   "execution_count": 43,
   "metadata": {},
   "outputs": [
    {
     "data": {
      "text/html": [
       "<div>\n",
       "<style scoped>\n",
       "    .dataframe tbody tr th:only-of-type {\n",
       "        vertical-align: middle;\n",
       "    }\n",
       "\n",
       "    .dataframe tbody tr th {\n",
       "        vertical-align: top;\n",
       "    }\n",
       "\n",
       "    .dataframe thead th {\n",
       "        text-align: right;\n",
       "    }\n",
       "</style>\n",
       "<table border=\"1\" class=\"dataframe\">\n",
       "  <thead>\n",
       "    <tr style=\"text-align: right;\">\n",
       "      <th></th>\n",
       "      <th>custom3</th>\n",
       "      <th>count</th>\n",
       "      <th>total_payments</th>\n",
       "      <th>conversion</th>\n",
       "    </tr>\n",
       "  </thead>\n",
       "  <tbody>\n",
       "    <tr>\n",
       "      <th>1</th>\n",
       "      <td>27</td>\n",
       "      <td>16</td>\n",
       "      <td>24</td>\n",
       "      <td>66.666667</td>\n",
       "    </tr>\n",
       "    <tr>\n",
       "      <th>0</th>\n",
       "      <td></td>\n",
       "      <td>4</td>\n",
       "      <td>8</td>\n",
       "      <td>50.000000</td>\n",
       "    </tr>\n",
       "    <tr>\n",
       "      <th>3</th>\n",
       "      <td>4</td>\n",
       "      <td>1</td>\n",
       "      <td>2</td>\n",
       "      <td>50.000000</td>\n",
       "    </tr>\n",
       "    <tr>\n",
       "      <th>2</th>\n",
       "      <td>38</td>\n",
       "      <td>346</td>\n",
       "      <td>1154</td>\n",
       "      <td>29.982669</td>\n",
       "    </tr>\n",
       "    <tr>\n",
       "      <th>4</th>\n",
       "      <td>not-detected</td>\n",
       "      <td>2</td>\n",
       "      <td>13</td>\n",
       "      <td>15.384615</td>\n",
       "    </tr>\n",
       "  </tbody>\n",
       "</table>\n",
       "</div>"
      ],
      "text/plain": [
       "        custom3  count  total_payments  conversion\n",
       "1            27     16              24   66.666667\n",
       "0                    4               8   50.000000\n",
       "3             4      1               2   50.000000\n",
       "2            38    346            1154   29.982669\n",
       "4  not-detected      2              13   15.384615"
      ]
     },
     "execution_count": 43,
     "metadata": {},
     "output_type": "execute_result"
    }
   ],
   "source": [
    "df_conversions_of_successful_payments = create_conversions_table(df, df_successful_payments, 'custom3')\n",
    "df_conversions_of_successful_payments"
   ]
  },
  {
   "cell_type": "markdown",
   "metadata": {},
   "source": [
    "**Выводы**"
   ]
  },
  {
   "cell_type": "markdown",
   "metadata": {},
   "source": [
    "Из конверсий платежей однозначно следует, что наиболее успешные платежи выполняются с признаком `custom3` **= 27** (конверсия - **66.666667 %**)."
   ]
  },
  {
   "cell_type": "markdown",
   "metadata": {},
   "source": [
    "**25. Посмотрим, какое количество успешных платежей в зависимости от значения признака `product1 name`.**"
   ]
  },
  {
   "cell_type": "code",
   "execution_count": 44,
   "metadata": {},
   "outputs": [
    {
     "data": {
      "image/png": "[encoded data removed]",
      "text/plain": [
       "<Figure size 1400x700 with 1 Axes>"
      ]
     },
     "metadata": {},
     "output_type": "display_data"
    }
   ],
   "source": [
    "(df_successful_payments.groupby('product1 name').agg(count=('transactionId', 'count'))\n",
    "    .sort_values(by='count', ascending=False)\n",
    "    .plot(kind='bar', \n",
    "          grid=True,\n",
    "          figsize=(14,7), \n",
    "          xlabel='Признак платежа \\'product1 name\\'',\n",
    "          ylabel='Количество успешных платежей',\n",
    "          title='Количество успешных платежей в зависимости от значения признака платежа \\'product1 name\\''));"
   ]
  },
  {
   "cell_type": "code",
   "execution_count": 45,
   "metadata": {},
   "outputs": [
    {
     "data": {
      "text/html": [
       "<div>\n",
       "<style scoped>\n",
       "    .dataframe tbody tr th:only-of-type {\n",
       "        vertical-align: middle;\n",
       "    }\n",
       "\n",
       "    .dataframe tbody tr th {\n",
       "        vertical-align: top;\n",
       "    }\n",
       "\n",
       "    .dataframe thead th {\n",
       "        text-align: right;\n",
       "    }\n",
       "</style>\n",
       "<table border=\"1\" class=\"dataframe\">\n",
       "  <thead>\n",
       "    <tr style=\"text-align: right;\">\n",
       "      <th></th>\n",
       "      <th>product1 name</th>\n",
       "      <th>count</th>\n",
       "      <th>total_payments</th>\n",
       "      <th>conversion</th>\n",
       "    </tr>\n",
       "  </thead>\n",
       "  <tbody>\n",
       "    <tr>\n",
       "      <th>5</th>\n",
       "      <td>(3) Membership Plan 6</td>\n",
       "      <td>4</td>\n",
       "      <td>10</td>\n",
       "      <td>40.000000</td>\n",
       "    </tr>\n",
       "    <tr>\n",
       "      <th>3</th>\n",
       "      <td>(3) Membership Plan 3</td>\n",
       "      <td>54</td>\n",
       "      <td>153</td>\n",
       "      <td>35.294118</td>\n",
       "    </tr>\n",
       "    <tr>\n",
       "      <th>6</th>\n",
       "      <td>Membership Plan</td>\n",
       "      <td>20</td>\n",
       "      <td>59</td>\n",
       "      <td>33.898305</td>\n",
       "    </tr>\n",
       "    <tr>\n",
       "      <th>0</th>\n",
       "      <td>(3) Membership Plan</td>\n",
       "      <td>108</td>\n",
       "      <td>326</td>\n",
       "      <td>33.128834</td>\n",
       "    </tr>\n",
       "    <tr>\n",
       "      <th>4</th>\n",
       "      <td>(3) Membership Plan 4</td>\n",
       "      <td>60</td>\n",
       "      <td>195</td>\n",
       "      <td>30.769231</td>\n",
       "    </tr>\n",
       "    <tr>\n",
       "      <th>1</th>\n",
       "      <td>(3) Membership Plan 1</td>\n",
       "      <td>63</td>\n",
       "      <td>227</td>\n",
       "      <td>27.753304</td>\n",
       "    </tr>\n",
       "    <tr>\n",
       "      <th>2</th>\n",
       "      <td>(3) Membership Plan 2</td>\n",
       "      <td>20</td>\n",
       "      <td>74</td>\n",
       "      <td>27.027027</td>\n",
       "    </tr>\n",
       "    <tr>\n",
       "      <th>7</th>\n",
       "      <td>Membership Plan 5</td>\n",
       "      <td>40</td>\n",
       "      <td>157</td>\n",
       "      <td>25.477707</td>\n",
       "    </tr>\n",
       "  </tbody>\n",
       "</table>\n",
       "</div>"
      ],
      "text/plain": [
       "           product1 name  count  total_payments  conversion\n",
       "5  (3) Membership Plan 6      4              10   40.000000\n",
       "3  (3) Membership Plan 3     54             153   35.294118\n",
       "6        Membership Plan     20              59   33.898305\n",
       "0    (3) Membership Plan    108             326   33.128834\n",
       "4  (3) Membership Plan 4     60             195   30.769231\n",
       "1  (3) Membership Plan 1     63             227   27.753304\n",
       "2  (3) Membership Plan 2     20              74   27.027027\n",
       "7      Membership Plan 5     40             157   25.477707"
      ]
     },
     "execution_count": 45,
     "metadata": {},
     "output_type": "execute_result"
    }
   ],
   "source": [
    "df_conversions_of_successful_payments = create_conversions_table(df, df_successful_payments, 'product1 name')\n",
    "df_conversions_of_successful_payments"
   ]
  },
  {
   "cell_type": "markdown",
   "metadata": {},
   "source": [
    "**Выводы**"
   ]
  },
  {
   "cell_type": "markdown",
   "metadata": {},
   "source": [
    "Из конверсий платежей однозначно следует, что наиболее успешные платежи выполняются с признаком `product1 name` **= (3) Membership Plan 6** (конверсия - **40%**)."
   ]
  },
  {
   "cell_type": "markdown",
   "metadata": {},
   "source": [
    "**26. Посмотрим, какое количество успешных платежей в зависимости от значения признака `product1 price`.**"
   ]
  },
  {
   "cell_type": "code",
   "execution_count": 46,
   "metadata": {},
   "outputs": [
    {
     "data": {
      "image/png": "[encoded data removed]",
      "text/plain": [
       "<Figure size 1400x700 with 1 Axes>"
      ]
     },
     "metadata": {},
     "output_type": "display_data"
    }
   ],
   "source": [
    "(df_successful_payments.groupby('product1 price').agg(count=('transactionId', 'count'))\n",
    "    .sort_values(by='count', ascending=False)\n",
    "    .plot(kind='bar', \n",
    "          grid=True,\n",
    "          figsize=(14,7), \n",
    "          xlabel='Цена \\'product1\\'',\n",
    "          ylabel='Количество успешных платежей',\n",
    "          title='Количество успешных платежей в зависимости от цены \\'product1\\''));"
   ]
  },
  {
   "cell_type": "code",
   "execution_count": 47,
   "metadata": {},
   "outputs": [
    {
     "data": {
      "text/html": [
       "<div>\n",
       "<style scoped>\n",
       "    .dataframe tbody tr th:only-of-type {\n",
       "        vertical-align: middle;\n",
       "    }\n",
       "\n",
       "    .dataframe tbody tr th {\n",
       "        vertical-align: top;\n",
       "    }\n",
       "\n",
       "    .dataframe thead th {\n",
       "        text-align: right;\n",
       "    }\n",
       "</style>\n",
       "<table border=\"1\" class=\"dataframe\">\n",
       "  <thead>\n",
       "    <tr style=\"text-align: right;\">\n",
       "      <th></th>\n",
       "      <th>product1 price</th>\n",
       "      <th>count</th>\n",
       "      <th>total_payments</th>\n",
       "      <th>conversion</th>\n",
       "    </tr>\n",
       "  </thead>\n",
       "  <tbody>\n",
       "    <tr>\n",
       "      <th>0</th>\n",
       "      <td>1.50</td>\n",
       "      <td>8</td>\n",
       "      <td>11</td>\n",
       "      <td>72.727273</td>\n",
       "    </tr>\n",
       "    <tr>\n",
       "      <th>8</th>\n",
       "      <td>58.35</td>\n",
       "      <td>121</td>\n",
       "      <td>207</td>\n",
       "      <td>58.454106</td>\n",
       "    </tr>\n",
       "    <tr>\n",
       "      <th>6</th>\n",
       "      <td>38.90</td>\n",
       "      <td>119</td>\n",
       "      <td>243</td>\n",
       "      <td>48.971193</td>\n",
       "    </tr>\n",
       "    <tr>\n",
       "      <th>4</th>\n",
       "      <td>28.01</td>\n",
       "      <td>33</td>\n",
       "      <td>97</td>\n",
       "      <td>34.020619</td>\n",
       "    </tr>\n",
       "    <tr>\n",
       "      <th>7</th>\n",
       "      <td>46.68</td>\n",
       "      <td>25</td>\n",
       "      <td>107</td>\n",
       "      <td>23.364486</td>\n",
       "    </tr>\n",
       "    <tr>\n",
       "      <th>3</th>\n",
       "      <td>18.67</td>\n",
       "      <td>27</td>\n",
       "      <td>167</td>\n",
       "      <td>16.167665</td>\n",
       "    </tr>\n",
       "    <tr>\n",
       "      <th>2</th>\n",
       "      <td>14.01</td>\n",
       "      <td>11</td>\n",
       "      <td>74</td>\n",
       "      <td>14.864865</td>\n",
       "    </tr>\n",
       "    <tr>\n",
       "      <th>1</th>\n",
       "      <td>9.34</td>\n",
       "      <td>16</td>\n",
       "      <td>169</td>\n",
       "      <td>9.467456</td>\n",
       "    </tr>\n",
       "    <tr>\n",
       "      <th>5</th>\n",
       "      <td>31.12</td>\n",
       "      <td>9</td>\n",
       "      <td>126</td>\n",
       "      <td>7.142857</td>\n",
       "    </tr>\n",
       "  </tbody>\n",
       "</table>\n",
       "</div>"
      ],
      "text/plain": [
       "   product1 price  count  total_payments  conversion\n",
       "0            1.50      8              11   72.727273\n",
       "8           58.35    121             207   58.454106\n",
       "6           38.90    119             243   48.971193\n",
       "4           28.01     33              97   34.020619\n",
       "7           46.68     25             107   23.364486\n",
       "3           18.67     27             167   16.167665\n",
       "2           14.01     11              74   14.864865\n",
       "1            9.34     16             169    9.467456\n",
       "5           31.12      9             126    7.142857"
      ]
     },
     "execution_count": 47,
     "metadata": {},
     "output_type": "execute_result"
    }
   ],
   "source": [
    "df_conversions_of_successful_payments = create_conversions_table(df, df_successful_payments, 'product1 price')\n",
    "df_conversions_of_successful_payments"
   ]
  },
  {
   "cell_type": "markdown",
   "metadata": {},
   "source": [
    "**Выводы**"
   ]
  },
  {
   "cell_type": "markdown",
   "metadata": {},
   "source": [
    "Из конверсий платежей однозначно следует, что наиболее успешные платежи выполняются с признаком `product1 price` **= 58.35** (конверсия - **58.454106%**). \n",
    "\n",
    "Значение признака **=1.50%** во внимание не берем, хотя у него конверсия **72.727273%**, так как по нему мало данных, по которым сложно корректно установить подлинную конверсию.\n",
    "\n",
    "Хотя из анализа таблицы `df_conversions_of_successful_payments` явно видно, что есть линейная и нелинейная зависимость между стоимостью продукта и конверсией. но это все-таки не является одним из ключевых факторов влияющих на успешность платежа. По этой причине, данный признак, в результате исследования, участвовать не будет."
   ]
  },
  {
   "cell_type": "markdown",
   "metadata": {},
   "source": [
    "**27. Построим график зависимости - количество успешных платежей в зависимости от дня месяца.**"
   ]
  },
  {
   "cell_type": "code",
   "execution_count": 48,
   "metadata": {},
   "outputs": [
    {
     "data": {
      "image/png": "[encoded data removed]",
      "text/plain": [
       "<Figure size 1400x700 with 1 Axes>"
      ]
     },
     "metadata": {},
     "output_type": "display_data"
    }
   ],
   "source": [
    "(df_successful_payments.groupby('day').agg(count=('transactionId', 'count'))\n",
    "    .plot(grid=True,\n",
    "          legend=True,\n",
    "          figsize=(14, 7),\n",
    "          xlabel='День месяца',\n",
    "          ylabel='Количество успешных платежей',\n",
    "          title='Количество успешных платежей в зависимости от дня месяца'));"
   ]
  },
  {
   "cell_type": "code",
   "execution_count": 49,
   "metadata": {},
   "outputs": [
    {
     "data": {
      "text/html": [
       "<div>\n",
       "<style scoped>\n",
       "    .dataframe tbody tr th:only-of-type {\n",
       "        vertical-align: middle;\n",
       "    }\n",
       "\n",
       "    .dataframe tbody tr th {\n",
       "        vertical-align: top;\n",
       "    }\n",
       "\n",
       "    .dataframe thead th {\n",
       "        text-align: right;\n",
       "    }\n",
       "</style>\n",
       "<table border=\"1\" class=\"dataframe\">\n",
       "  <thead>\n",
       "    <tr style=\"text-align: right;\">\n",
       "      <th></th>\n",
       "      <th>day</th>\n",
       "      <th>count</th>\n",
       "      <th>total_payments</th>\n",
       "      <th>conversion</th>\n",
       "    </tr>\n",
       "  </thead>\n",
       "  <tbody>\n",
       "    <tr>\n",
       "      <th>0</th>\n",
       "      <td>1</td>\n",
       "      <td>36</td>\n",
       "      <td>93</td>\n",
       "      <td>38.709677</td>\n",
       "    </tr>\n",
       "    <tr>\n",
       "      <th>1</th>\n",
       "      <td>2</td>\n",
       "      <td>38</td>\n",
       "      <td>106</td>\n",
       "      <td>35.849057</td>\n",
       "    </tr>\n",
       "    <tr>\n",
       "      <th>6</th>\n",
       "      <td>7</td>\n",
       "      <td>29</td>\n",
       "      <td>84</td>\n",
       "      <td>34.523810</td>\n",
       "    </tr>\n",
       "    <tr>\n",
       "      <th>3</th>\n",
       "      <td>4</td>\n",
       "      <td>31</td>\n",
       "      <td>90</td>\n",
       "      <td>34.444444</td>\n",
       "    </tr>\n",
       "    <tr>\n",
       "      <th>9</th>\n",
       "      <td>10</td>\n",
       "      <td>23</td>\n",
       "      <td>67</td>\n",
       "      <td>34.328358</td>\n",
       "    </tr>\n",
       "    <tr>\n",
       "      <th>10</th>\n",
       "      <td>11</td>\n",
       "      <td>25</td>\n",
       "      <td>74</td>\n",
       "      <td>33.783784</td>\n",
       "    </tr>\n",
       "    <tr>\n",
       "      <th>7</th>\n",
       "      <td>8</td>\n",
       "      <td>20</td>\n",
       "      <td>62</td>\n",
       "      <td>32.258065</td>\n",
       "    </tr>\n",
       "    <tr>\n",
       "      <th>12</th>\n",
       "      <td>13</td>\n",
       "      <td>19</td>\n",
       "      <td>60</td>\n",
       "      <td>31.666667</td>\n",
       "    </tr>\n",
       "    <tr>\n",
       "      <th>11</th>\n",
       "      <td>12</td>\n",
       "      <td>24</td>\n",
       "      <td>76</td>\n",
       "      <td>31.578947</td>\n",
       "    </tr>\n",
       "    <tr>\n",
       "      <th>4</th>\n",
       "      <td>5</td>\n",
       "      <td>32</td>\n",
       "      <td>104</td>\n",
       "      <td>30.769231</td>\n",
       "    </tr>\n",
       "    <tr>\n",
       "      <th>8</th>\n",
       "      <td>9</td>\n",
       "      <td>18</td>\n",
       "      <td>71</td>\n",
       "      <td>25.352113</td>\n",
       "    </tr>\n",
       "    <tr>\n",
       "      <th>5</th>\n",
       "      <td>6</td>\n",
       "      <td>26</td>\n",
       "      <td>103</td>\n",
       "      <td>25.242718</td>\n",
       "    </tr>\n",
       "    <tr>\n",
       "      <th>2</th>\n",
       "      <td>3</td>\n",
       "      <td>35</td>\n",
       "      <td>142</td>\n",
       "      <td>24.647887</td>\n",
       "    </tr>\n",
       "    <tr>\n",
       "      <th>13</th>\n",
       "      <td>14</td>\n",
       "      <td>13</td>\n",
       "      <td>69</td>\n",
       "      <td>18.840580</td>\n",
       "    </tr>\n",
       "  </tbody>\n",
       "</table>\n",
       "</div>"
      ],
      "text/plain": [
       "    day  count  total_payments  conversion\n",
       "0     1     36              93   38.709677\n",
       "1     2     38             106   35.849057\n",
       "6     7     29              84   34.523810\n",
       "3     4     31              90   34.444444\n",
       "9    10     23              67   34.328358\n",
       "10   11     25              74   33.783784\n",
       "7     8     20              62   32.258065\n",
       "12   13     19              60   31.666667\n",
       "11   12     24              76   31.578947\n",
       "4     5     32             104   30.769231\n",
       "8     9     18              71   25.352113\n",
       "5     6     26             103   25.242718\n",
       "2     3     35             142   24.647887\n",
       "13   14     13              69   18.840580"
      ]
     },
     "execution_count": 49,
     "metadata": {},
     "output_type": "execute_result"
    }
   ],
   "source": [
    "df_conversions_of_successful_payments = create_conversions_table(df, df_successful_payments, 'day')\n",
    "df_conversions_of_successful_payments"
   ]
  },
  {
   "cell_type": "markdown",
   "metadata": {},
   "source": [
    "**28. Построим график зависимости - количество успешных платежей в зависимости от часа дня.**"
   ]
  },
  {
   "cell_type": "code",
   "execution_count": 50,
   "metadata": {},
   "outputs": [
    {
     "data": {
      "image/png": "[encoded data removed]",
      "text/plain": [
       "<Figure size 1400x700 with 1 Axes>"
      ]
     },
     "metadata": {},
     "output_type": "display_data"
    }
   ],
   "source": [
    "(df_successful_payments.groupby('hour').agg(count=('transactionId', 'count'))\n",
    "    .plot(grid=True,\n",
    "          legend=True,\n",
    "          figsize=(14, 7),\n",
    "          xlabel='Час суток',\n",
    "          ylabel='Количество успешных платежей',\n",
    "          title='Количество успешных платежей в зависимости от часа суток'));"
   ]
  },
  {
   "cell_type": "code",
   "execution_count": 51,
   "metadata": {},
   "outputs": [
    {
     "data": {
      "text/html": [
       "<div>\n",
       "<style scoped>\n",
       "    .dataframe tbody tr th:only-of-type {\n",
       "        vertical-align: middle;\n",
       "    }\n",
       "\n",
       "    .dataframe tbody tr th {\n",
       "        vertical-align: top;\n",
       "    }\n",
       "\n",
       "    .dataframe thead th {\n",
       "        text-align: right;\n",
       "    }\n",
       "</style>\n",
       "<table border=\"1\" class=\"dataframe\">\n",
       "  <thead>\n",
       "    <tr style=\"text-align: right;\">\n",
       "      <th></th>\n",
       "      <th>hour</th>\n",
       "      <th>count</th>\n",
       "      <th>total_payments</th>\n",
       "      <th>conversion</th>\n",
       "    </tr>\n",
       "  </thead>\n",
       "  <tbody>\n",
       "    <tr>\n",
       "      <th>0</th>\n",
       "      <td>1</td>\n",
       "      <td>1</td>\n",
       "      <td>1</td>\n",
       "      <td>100.000000</td>\n",
       "    </tr>\n",
       "    <tr>\n",
       "      <th>2</th>\n",
       "      <td>4</td>\n",
       "      <td>2</td>\n",
       "      <td>2</td>\n",
       "      <td>100.000000</td>\n",
       "    </tr>\n",
       "    <tr>\n",
       "      <th>3</th>\n",
       "      <td>6</td>\n",
       "      <td>1</td>\n",
       "      <td>1</td>\n",
       "      <td>100.000000</td>\n",
       "    </tr>\n",
       "    <tr>\n",
       "      <th>4</th>\n",
       "      <td>7</td>\n",
       "      <td>1</td>\n",
       "      <td>1</td>\n",
       "      <td>100.000000</td>\n",
       "    </tr>\n",
       "    <tr>\n",
       "      <th>6</th>\n",
       "      <td>12</td>\n",
       "      <td>5</td>\n",
       "      <td>5</td>\n",
       "      <td>100.000000</td>\n",
       "    </tr>\n",
       "    <tr>\n",
       "      <th>7</th>\n",
       "      <td>13</td>\n",
       "      <td>7</td>\n",
       "      <td>7</td>\n",
       "      <td>100.000000</td>\n",
       "    </tr>\n",
       "    <tr>\n",
       "      <th>9</th>\n",
       "      <td>16</td>\n",
       "      <td>11</td>\n",
       "      <td>11</td>\n",
       "      <td>100.000000</td>\n",
       "    </tr>\n",
       "    <tr>\n",
       "      <th>10</th>\n",
       "      <td>17</td>\n",
       "      <td>5</td>\n",
       "      <td>5</td>\n",
       "      <td>100.000000</td>\n",
       "    </tr>\n",
       "    <tr>\n",
       "      <th>11</th>\n",
       "      <td>18</td>\n",
       "      <td>4</td>\n",
       "      <td>4</td>\n",
       "      <td>100.000000</td>\n",
       "    </tr>\n",
       "    <tr>\n",
       "      <th>12</th>\n",
       "      <td>19</td>\n",
       "      <td>2</td>\n",
       "      <td>2</td>\n",
       "      <td>100.000000</td>\n",
       "    </tr>\n",
       "    <tr>\n",
       "      <th>13</th>\n",
       "      <td>21</td>\n",
       "      <td>2</td>\n",
       "      <td>2</td>\n",
       "      <td>100.000000</td>\n",
       "    </tr>\n",
       "    <tr>\n",
       "      <th>8</th>\n",
       "      <td>15</td>\n",
       "      <td>9</td>\n",
       "      <td>10</td>\n",
       "      <td>90.000000</td>\n",
       "    </tr>\n",
       "    <tr>\n",
       "      <th>5</th>\n",
       "      <td>10</td>\n",
       "      <td>2</td>\n",
       "      <td>4</td>\n",
       "      <td>50.000000</td>\n",
       "    </tr>\n",
       "    <tr>\n",
       "      <th>1</th>\n",
       "      <td>3</td>\n",
       "      <td>317</td>\n",
       "      <td>1146</td>\n",
       "      <td>27.661431</td>\n",
       "    </tr>\n",
       "  </tbody>\n",
       "</table>\n",
       "</div>"
      ],
      "text/plain": [
       "    hour  count  total_payments  conversion\n",
       "0      1      1               1  100.000000\n",
       "2      4      2               2  100.000000\n",
       "3      6      1               1  100.000000\n",
       "4      7      1               1  100.000000\n",
       "6     12      5               5  100.000000\n",
       "7     13      7               7  100.000000\n",
       "9     16     11              11  100.000000\n",
       "10    17      5               5  100.000000\n",
       "11    18      4               4  100.000000\n",
       "12    19      2               2  100.000000\n",
       "13    21      2               2  100.000000\n",
       "8     15      9              10   90.000000\n",
       "5     10      2               4   50.000000\n",
       "1      3    317            1146   27.661431"
      ]
     },
     "execution_count": 51,
     "metadata": {},
     "output_type": "execute_result"
    }
   ],
   "source": [
    "df_conversions_of_successful_payments = create_conversions_table(df, df_successful_payments, 'hour')\n",
    "df_conversions_of_successful_payments"
   ]
  },
  {
   "cell_type": "markdown",
   "metadata": {},
   "source": [
    "**29. Построим график зависимости - количество успешных платежей в зависимости от минут.**"
   ]
  },
  {
   "cell_type": "code",
   "execution_count": 52,
   "metadata": {},
   "outputs": [
    {
     "data": {
      "image/png": "[encoded data removed]",
      "text/plain": [
       "<Figure size 1400x700 with 1 Axes>"
      ]
     },
     "metadata": {},
     "output_type": "display_data"
    }
   ],
   "source": [
    "(df_successful_payments.groupby('minute').agg(count=('transactionId', 'count'))\n",
    "    .plot(grid=True,\n",
    "          legend=True,\n",
    "          figsize=(14, 7),\n",
    "          xlabel='Количество минут',\n",
    "          ylabel='Количество успешных платежей',\n",
    "          title='Количество успешных платежей в зависимости от минут'));"
   ]
  },
  {
   "cell_type": "code",
   "execution_count": 53,
   "metadata": {},
   "outputs": [
    {
     "data": {
      "text/html": [
       "<div>\n",
       "<style scoped>\n",
       "    .dataframe tbody tr th:only-of-type {\n",
       "        vertical-align: middle;\n",
       "    }\n",
       "\n",
       "    .dataframe tbody tr th {\n",
       "        vertical-align: top;\n",
       "    }\n",
       "\n",
       "    .dataframe thead th {\n",
       "        text-align: right;\n",
       "    }\n",
       "</style>\n",
       "<table border=\"1\" class=\"dataframe\">\n",
       "  <thead>\n",
       "    <tr style=\"text-align: right;\">\n",
       "      <th></th>\n",
       "      <th>minute</th>\n",
       "      <th>count</th>\n",
       "      <th>total_payments</th>\n",
       "      <th>conversion</th>\n",
       "    </tr>\n",
       "  </thead>\n",
       "  <tbody>\n",
       "    <tr>\n",
       "      <th>0</th>\n",
       "      <td>0</td>\n",
       "      <td>5</td>\n",
       "      <td>5</td>\n",
       "      <td>100.000000</td>\n",
       "    </tr>\n",
       "    <tr>\n",
       "      <th>1</th>\n",
       "      <td>1</td>\n",
       "      <td>1</td>\n",
       "      <td>1</td>\n",
       "      <td>100.000000</td>\n",
       "    </tr>\n",
       "    <tr>\n",
       "      <th>22</th>\n",
       "      <td>34</td>\n",
       "      <td>2</td>\n",
       "      <td>2</td>\n",
       "      <td>100.000000</td>\n",
       "    </tr>\n",
       "    <tr>\n",
       "      <th>23</th>\n",
       "      <td>36</td>\n",
       "      <td>1</td>\n",
       "      <td>1</td>\n",
       "      <td>100.000000</td>\n",
       "    </tr>\n",
       "    <tr>\n",
       "      <th>24</th>\n",
       "      <td>39</td>\n",
       "      <td>2</td>\n",
       "      <td>2</td>\n",
       "      <td>100.000000</td>\n",
       "    </tr>\n",
       "    <tr>\n",
       "      <th>25</th>\n",
       "      <td>40</td>\n",
       "      <td>1</td>\n",
       "      <td>1</td>\n",
       "      <td>100.000000</td>\n",
       "    </tr>\n",
       "    <tr>\n",
       "      <th>26</th>\n",
       "      <td>41</td>\n",
       "      <td>3</td>\n",
       "      <td>3</td>\n",
       "      <td>100.000000</td>\n",
       "    </tr>\n",
       "    <tr>\n",
       "      <th>27</th>\n",
       "      <td>42</td>\n",
       "      <td>1</td>\n",
       "      <td>1</td>\n",
       "      <td>100.000000</td>\n",
       "    </tr>\n",
       "    <tr>\n",
       "      <th>28</th>\n",
       "      <td>44</td>\n",
       "      <td>2</td>\n",
       "      <td>2</td>\n",
       "      <td>100.000000</td>\n",
       "    </tr>\n",
       "    <tr>\n",
       "      <th>29</th>\n",
       "      <td>45</td>\n",
       "      <td>2</td>\n",
       "      <td>2</td>\n",
       "      <td>100.000000</td>\n",
       "    </tr>\n",
       "    <tr>\n",
       "      <th>30</th>\n",
       "      <td>46</td>\n",
       "      <td>2</td>\n",
       "      <td>2</td>\n",
       "      <td>100.000000</td>\n",
       "    </tr>\n",
       "    <tr>\n",
       "      <th>32</th>\n",
       "      <td>48</td>\n",
       "      <td>3</td>\n",
       "      <td>3</td>\n",
       "      <td>100.000000</td>\n",
       "    </tr>\n",
       "    <tr>\n",
       "      <th>33</th>\n",
       "      <td>50</td>\n",
       "      <td>1</td>\n",
       "      <td>1</td>\n",
       "      <td>100.000000</td>\n",
       "    </tr>\n",
       "    <tr>\n",
       "      <th>34</th>\n",
       "      <td>52</td>\n",
       "      <td>1</td>\n",
       "      <td>1</td>\n",
       "      <td>100.000000</td>\n",
       "    </tr>\n",
       "    <tr>\n",
       "      <th>35</th>\n",
       "      <td>53</td>\n",
       "      <td>1</td>\n",
       "      <td>1</td>\n",
       "      <td>100.000000</td>\n",
       "    </tr>\n",
       "    <tr>\n",
       "      <th>36</th>\n",
       "      <td>54</td>\n",
       "      <td>1</td>\n",
       "      <td>1</td>\n",
       "      <td>100.000000</td>\n",
       "    </tr>\n",
       "    <tr>\n",
       "      <th>37</th>\n",
       "      <td>55</td>\n",
       "      <td>1</td>\n",
       "      <td>1</td>\n",
       "      <td>100.000000</td>\n",
       "    </tr>\n",
       "    <tr>\n",
       "      <th>38</th>\n",
       "      <td>56</td>\n",
       "      <td>1</td>\n",
       "      <td>1</td>\n",
       "      <td>100.000000</td>\n",
       "    </tr>\n",
       "    <tr>\n",
       "      <th>39</th>\n",
       "      <td>58</td>\n",
       "      <td>1</td>\n",
       "      <td>1</td>\n",
       "      <td>100.000000</td>\n",
       "    </tr>\n",
       "    <tr>\n",
       "      <th>21</th>\n",
       "      <td>30</td>\n",
       "      <td>1</td>\n",
       "      <td>1</td>\n",
       "      <td>100.000000</td>\n",
       "    </tr>\n",
       "    <tr>\n",
       "      <th>20</th>\n",
       "      <td>26</td>\n",
       "      <td>1</td>\n",
       "      <td>1</td>\n",
       "      <td>100.000000</td>\n",
       "    </tr>\n",
       "    <tr>\n",
       "      <th>19</th>\n",
       "      <td>25</td>\n",
       "      <td>1</td>\n",
       "      <td>1</td>\n",
       "      <td>100.000000</td>\n",
       "    </tr>\n",
       "    <tr>\n",
       "      <th>14</th>\n",
       "      <td>17</td>\n",
       "      <td>1</td>\n",
       "      <td>1</td>\n",
       "      <td>100.000000</td>\n",
       "    </tr>\n",
       "    <tr>\n",
       "      <th>2</th>\n",
       "      <td>3</td>\n",
       "      <td>1</td>\n",
       "      <td>1</td>\n",
       "      <td>100.000000</td>\n",
       "    </tr>\n",
       "    <tr>\n",
       "      <th>3</th>\n",
       "      <td>5</td>\n",
       "      <td>1</td>\n",
       "      <td>1</td>\n",
       "      <td>100.000000</td>\n",
       "    </tr>\n",
       "    <tr>\n",
       "      <th>18</th>\n",
       "      <td>24</td>\n",
       "      <td>2</td>\n",
       "      <td>2</td>\n",
       "      <td>100.000000</td>\n",
       "    </tr>\n",
       "    <tr>\n",
       "      <th>40</th>\n",
       "      <td>59</td>\n",
       "      <td>1</td>\n",
       "      <td>1</td>\n",
       "      <td>100.000000</td>\n",
       "    </tr>\n",
       "    <tr>\n",
       "      <th>15</th>\n",
       "      <td>19</td>\n",
       "      <td>1</td>\n",
       "      <td>1</td>\n",
       "      <td>100.000000</td>\n",
       "    </tr>\n",
       "    <tr>\n",
       "      <th>16</th>\n",
       "      <td>22</td>\n",
       "      <td>1</td>\n",
       "      <td>1</td>\n",
       "      <td>100.000000</td>\n",
       "    </tr>\n",
       "    <tr>\n",
       "      <th>17</th>\n",
       "      <td>23</td>\n",
       "      <td>1</td>\n",
       "      <td>1</td>\n",
       "      <td>100.000000</td>\n",
       "    </tr>\n",
       "    <tr>\n",
       "      <th>31</th>\n",
       "      <td>47</td>\n",
       "      <td>1</td>\n",
       "      <td>2</td>\n",
       "      <td>50.000000</td>\n",
       "    </tr>\n",
       "    <tr>\n",
       "      <th>9</th>\n",
       "      <td>12</td>\n",
       "      <td>29</td>\n",
       "      <td>75</td>\n",
       "      <td>38.666667</td>\n",
       "    </tr>\n",
       "    <tr>\n",
       "      <th>5</th>\n",
       "      <td>8</td>\n",
       "      <td>86</td>\n",
       "      <td>255</td>\n",
       "      <td>33.725490</td>\n",
       "    </tr>\n",
       "    <tr>\n",
       "      <th>6</th>\n",
       "      <td>9</td>\n",
       "      <td>81</td>\n",
       "      <td>241</td>\n",
       "      <td>33.609959</td>\n",
       "    </tr>\n",
       "    <tr>\n",
       "      <th>8</th>\n",
       "      <td>11</td>\n",
       "      <td>40</td>\n",
       "      <td>128</td>\n",
       "      <td>31.250000</td>\n",
       "    </tr>\n",
       "    <tr>\n",
       "      <th>13</th>\n",
       "      <td>16</td>\n",
       "      <td>1</td>\n",
       "      <td>4</td>\n",
       "      <td>25.000000</td>\n",
       "    </tr>\n",
       "    <tr>\n",
       "      <th>10</th>\n",
       "      <td>13</td>\n",
       "      <td>11</td>\n",
       "      <td>53</td>\n",
       "      <td>20.754717</td>\n",
       "    </tr>\n",
       "    <tr>\n",
       "      <th>4</th>\n",
       "      <td>7</td>\n",
       "      <td>35</td>\n",
       "      <td>171</td>\n",
       "      <td>20.467836</td>\n",
       "    </tr>\n",
       "    <tr>\n",
       "      <th>11</th>\n",
       "      <td>14</td>\n",
       "      <td>4</td>\n",
       "      <td>20</td>\n",
       "      <td>20.000000</td>\n",
       "    </tr>\n",
       "    <tr>\n",
       "      <th>7</th>\n",
       "      <td>10</td>\n",
       "      <td>36</td>\n",
       "      <td>193</td>\n",
       "      <td>18.652850</td>\n",
       "    </tr>\n",
       "    <tr>\n",
       "      <th>12</th>\n",
       "      <td>15</td>\n",
       "      <td>1</td>\n",
       "      <td>14</td>\n",
       "      <td>7.142857</td>\n",
       "    </tr>\n",
       "  </tbody>\n",
       "</table>\n",
       "</div>"
      ],
      "text/plain": [
       "    minute  count  total_payments  conversion\n",
       "0        0      5               5  100.000000\n",
       "1        1      1               1  100.000000\n",
       "22      34      2               2  100.000000\n",
       "23      36      1               1  100.000000\n",
       "24      39      2               2  100.000000\n",
       "25      40      1               1  100.000000\n",
       "26      41      3               3  100.000000\n",
       "27      42      1               1  100.000000\n",
       "28      44      2               2  100.000000\n",
       "29      45      2               2  100.000000\n",
       "30      46      2               2  100.000000\n",
       "32      48      3               3  100.000000\n",
       "33      50      1               1  100.000000\n",
       "34      52      1               1  100.000000\n",
       "35      53      1               1  100.000000\n",
       "36      54      1               1  100.000000\n",
       "37      55      1               1  100.000000\n",
       "38      56      1               1  100.000000\n",
       "39      58      1               1  100.000000\n",
       "21      30      1               1  100.000000\n",
       "20      26      1               1  100.000000\n",
       "19      25      1               1  100.000000\n",
       "14      17      1               1  100.000000\n",
       "2        3      1               1  100.000000\n",
       "3        5      1               1  100.000000\n",
       "18      24      2               2  100.000000\n",
       "40      59      1               1  100.000000\n",
       "15      19      1               1  100.000000\n",
       "16      22      1               1  100.000000\n",
       "17      23      1               1  100.000000\n",
       "31      47      1               2   50.000000\n",
       "9       12     29              75   38.666667\n",
       "5        8     86             255   33.725490\n",
       "6        9     81             241   33.609959\n",
       "8       11     40             128   31.250000\n",
       "13      16      1               4   25.000000\n",
       "10      13     11              53   20.754717\n",
       "4        7     35             171   20.467836\n",
       "11      14      4              20   20.000000\n",
       "7       10     36             193   18.652850\n",
       "12      15      1              14    7.142857"
      ]
     },
     "execution_count": 53,
     "metadata": {},
     "output_type": "execute_result"
    }
   ],
   "source": [
    "df_conversions_of_successful_payments = create_conversions_table(df, df_successful_payments, 'minute')\n",
    "df_conversions_of_successful_payments"
   ]
  },
  {
   "cell_type": "markdown",
   "metadata": {},
   "source": [
    "**30. Построим график зависимости - количество успешных платежей в зависимости от минут.**"
   ]
  },
  {
   "cell_type": "code",
   "execution_count": 54,
   "metadata": {},
   "outputs": [
    {
     "data": {
      "image/png": "[encoded data removed]",
      "text/plain": [
       "<Figure size 1400x700 with 1 Axes>"
      ]
     },
     "metadata": {},
     "output_type": "display_data"
    }
   ],
   "source": [
    "(df_successful_payments.groupby('weekday').agg(count=('transactionId', 'count'))\n",
    "    .plot(grid=True,\n",
    "          legend=True,\n",
    "          figsize=(14, 7),\n",
    "          xlabel='День недели',\n",
    "          ylabel='Количество успешных платежей',\n",
    "          title='Количество успешных платежей в зависимости от дня недели'));"
   ]
  },
  {
   "cell_type": "code",
   "execution_count": 55,
   "metadata": {},
   "outputs": [
    {
     "data": {
      "text/html": [
       "<div>\n",
       "<style scoped>\n",
       "    .dataframe tbody tr th:only-of-type {\n",
       "        vertical-align: middle;\n",
       "    }\n",
       "\n",
       "    .dataframe tbody tr th {\n",
       "        vertical-align: top;\n",
       "    }\n",
       "\n",
       "    .dataframe thead th {\n",
       "        text-align: right;\n",
       "    }\n",
       "</style>\n",
       "<table border=\"1\" class=\"dataframe\">\n",
       "  <thead>\n",
       "    <tr style=\"text-align: right;\">\n",
       "      <th></th>\n",
       "      <th>weekday</th>\n",
       "      <th>count</th>\n",
       "      <th>total_payments</th>\n",
       "      <th>conversion</th>\n",
       "    </tr>\n",
       "  </thead>\n",
       "  <tbody>\n",
       "    <tr>\n",
       "      <th>0</th>\n",
       "      <td>0</td>\n",
       "      <td>56</td>\n",
       "      <td>155</td>\n",
       "      <td>36.129032</td>\n",
       "    </tr>\n",
       "    <tr>\n",
       "      <th>3</th>\n",
       "      <td>3</td>\n",
       "      <td>56</td>\n",
       "      <td>164</td>\n",
       "      <td>34.146341</td>\n",
       "    </tr>\n",
       "    <tr>\n",
       "      <th>1</th>\n",
       "      <td>1</td>\n",
       "      <td>56</td>\n",
       "      <td>177</td>\n",
       "      <td>31.638418</td>\n",
       "    </tr>\n",
       "    <tr>\n",
       "      <th>4</th>\n",
       "      <td>4</td>\n",
       "      <td>56</td>\n",
       "      <td>180</td>\n",
       "      <td>31.111111</td>\n",
       "    </tr>\n",
       "    <tr>\n",
       "      <th>2</th>\n",
       "      <td>2</td>\n",
       "      <td>58</td>\n",
       "      <td>209</td>\n",
       "      <td>27.751196</td>\n",
       "    </tr>\n",
       "    <tr>\n",
       "      <th>5</th>\n",
       "      <td>5</td>\n",
       "      <td>45</td>\n",
       "      <td>163</td>\n",
       "      <td>27.607362</td>\n",
       "    </tr>\n",
       "    <tr>\n",
       "      <th>6</th>\n",
       "      <td>6</td>\n",
       "      <td>42</td>\n",
       "      <td>153</td>\n",
       "      <td>27.450980</td>\n",
       "    </tr>\n",
       "  </tbody>\n",
       "</table>\n",
       "</div>"
      ],
      "text/plain": [
       "   weekday  count  total_payments  conversion\n",
       "0        0     56             155   36.129032\n",
       "3        3     56             164   34.146341\n",
       "1        1     56             177   31.638418\n",
       "4        4     56             180   31.111111\n",
       "2        2     58             209   27.751196\n",
       "5        5     45             163   27.607362\n",
       "6        6     42             153   27.450980"
      ]
     },
     "execution_count": 55,
     "metadata": {},
     "output_type": "execute_result"
    }
   ],
   "source": [
    "df_conversions_of_successful_payments = create_conversions_table(df, df_successful_payments, 'weekday')\n",
    "df_conversions_of_successful_payments"
   ]
  },
  {
   "cell_type": "markdown",
   "metadata": {},
   "source": [
    "## Итоги исследования\n",
    "\n",
    "*1. Закономерности определяющие успешность платежа:*\n",
    "   - поставщик платежных услуг;\n",
    "   - страна платежа (страна из которой выполняется платеж);\n",
    "   - продавец, которому делается платеж (оплачивается продукт);\n",
    "   - тип карты (дебетовая, кредитная);\n",
    "   - BIN карты;\n",
    "   - тип карты (предоплаченная или нет);\n",
    "   - значение признака `custom3`;\n",
    "   - значения признака `product1 name`;\n",
    "   - день недели, в который выполняется платеж;\n",
    "   - время (измеряется в часах), в которое выполняется платеж.\n",
    "    \n",
    "*2. Варианты увеличения прохождения платежей.*\n",
    "\n",
    "   а) Первый вариант (наиболее эффективный, из анализа представленных данных):\n",
    "   - выбрать поставщика платежных услуг c лучшей конверсией - **38.961038961038966 %** : **`EMP`**;\n",
    "   - выполнять платеж из страны с лучшей конверсией - **39.62264150943396 %** : **`FR`**;\n",
    "   - выбрать продавца, у которого покупается продукт, с лучщей конверсией - **38.961039 %** : **`EMP 1`**;\n",
    "   - выбрать для оплаты кредитную карту, конверсия - **38.311688 %**;\n",
    "   - выбрать для оплаты карту с BIN, с лучшей конверсией - **70-100 %**, из первых 40 банковских карт, из списка в таблице, которая создана на шаге 22;\n",
    "   - выбрать для оплаты не предоплаченную карту, по ним конверсия - **31.504425 %**;\n",
    "   - при возможности, выбрать значение признака `custom3` с лучшей конверсией - **66.666667 %** : **`27`**;\n",
    "   - при возможности, выбрать значение признака `product1 name` с лучшей конверсией - **40 %** : **`(3) Membership Plan 6`**;\n",
    "   - выполнять платеж в день недели с лучшей конверсией - **36.129032 %** : **`понедельник`**;\n",
    "   - избегать выполнения платежа в определенное время суток: 3 часа и 10 часов утра (саммая низкая конверсия).\n",
    "     \n",
    "   б) Иные варианты:\n",
    "    - различные вариации признаков из подпункта \"а\".\n",
    "        \n",
    "*Рекомендации по улучшению исследования и вариантов улучшения платежей*:\n",
    "   - собрать большой массив исходных данных, за более продолжительный период времени, для более полного исследования.анализа"
   ]
  }
 ],
 "metadata": {
  "colab": {
   "provenance": []
  },
  "kernelspec": {
   "display_name": "Python 3 (ipykernel)",
   "language": "python",
   "name": "python3"
  },
  "language_info": {
   "codemirror_mode": {
    "name": "ipython",
    "version": 3
   },
   "file_extension": ".py",
   "mimetype": "text/x-python",
   "name": "python",
   "nbconvert_exporter": "python",
   "pygments_lexer": "ipython3",
   "version": "3.11.2"
  },
  "widgets": {
   "application/vnd.jupyter.widget-state+json": {
    "3f11b851e1664a79b3a4874bda1a94ad": {
     "model_module": "@jupyter-widgets/controls",
     "model_module_version": "1.5.0",
     "model_name": "DescriptionStyleModel",
     "state": {
      "_model_module": "@jupyter-widgets/controls",
      "_model_module_version": "1.5.0",
      "_model_name": "DescriptionStyleModel",
      "_view_count": null,
      "_view_module": "@jupyter-widgets/base",
      "_view_module_version": "1.2.0",
      "_view_name": "StyleView",
      "description_width": ""
     }
    },
    "52b82d319bd14276968321c44a52d08f": {
     "model_module": "@jupyter-widgets/controls",
     "model_module_version": "1.5.0",
     "model_name": "ProgressStyleModel",
     "state": {
      "_model_module": "@jupyter-widgets/controls",
      "_model_module_version": "1.5.0",
      "_model_name": "ProgressStyleModel",
      "_view_count": null,
      "_view_module": "@jupyter-widgets/base",
      "_view_module_version": "1.2.0",
      "_view_name": "StyleView",
      "bar_color": null,
      "description_width": ""
     }
    },
    "562aef17726245ebb46073307bc9120f": {
     "model_module": "@jupyter-widgets/controls",
     "model_module_version": "1.5.0",
     "model_name": "HTMLModel",
     "state": {
      "_dom_classes": [],
      "_model_module": "@jupyter-widgets/controls",
      "_model_module_version": "1.5.0",
      "_model_name": "HTMLModel",
      "_view_count": null,
      "_view_module": "@jupyter-widgets/controls",
      "_view_module_version": "1.5.0",
      "_view_name": "HTMLView",
      "description": "",
      "description_tooltip": null,
      "layout": "IPY_MODEL_b83df015b2b44cd39ad0967bdcb9fb9a",
      "placeholder": "​",
      "style": "IPY_MODEL_591b0868fc404c98a7acf4347a3a075a",
      "value": "100%"
     }
    },
    "591b0868fc404c98a7acf4347a3a075a": {
     "model_module": "@jupyter-widgets/controls",
     "model_module_version": "1.5.0",
     "model_name": "DescriptionStyleModel",
     "state": {
      "_model_module": "@jupyter-widgets/controls",
      "_model_module_version": "1.5.0",
      "_model_name": "DescriptionStyleModel",
      "_view_count": null,
      "_view_module": "@jupyter-widgets/base",
      "_view_module_version": "1.2.0",
      "_view_name": "StyleView",
      "description_width": ""
     }
    },
    "8aeeb46e126949818bff38cbfa013f99": {
     "model_module": "@jupyter-widgets/base",
     "model_module_version": "1.2.0",
     "model_name": "LayoutModel",
     "state": {
      "_model_module": "@jupyter-widgets/base",
      "_model_module_version": "1.2.0",
      "_model_name": "LayoutModel",
      "_view_count": null,
      "_view_module": "@jupyter-widgets/base",
      "_view_module_version": "1.2.0",
      "_view_name": "LayoutView",
      "align_content": null,
      "align_items": null,
      "align_self": null,
      "border": null,
      "bottom": null,
      "display": null,
      "flex": null,
      "flex_flow": null,
      "grid_area": null,
      "grid_auto_columns": null,
      "grid_auto_flow": null,
      "grid_auto_rows": null,
      "grid_column": null,
      "grid_gap": null,
      "grid_row": null,
      "grid_template_areas": null,
      "grid_template_columns": null,
      "grid_template_rows": null,
      "height": null,
      "justify_content": null,
      "justify_items": null,
      "left": null,
      "margin": null,
      "max_height": null,
      "max_width": null,
      "min_height": null,
      "min_width": null,
      "object_fit": null,
      "object_position": null,
      "order": null,
      "overflow": null,
      "overflow_x": null,
      "overflow_y": null,
      "padding": null,
      "right": null,
      "top": null,
      "visibility": null,
      "width": null
     }
    },
    "b434bd3cbe8b49629aaab37598272776": {
     "model_module": "@jupyter-widgets/controls",
     "model_module_version": "1.5.0",
     "model_name": "HTMLModel",
     "state": {
      "_dom_classes": [],
      "_model_module": "@jupyter-widgets/controls",
      "_model_module_version": "1.5.0",
      "_model_name": "HTMLModel",
      "_view_count": null,
      "_view_module": "@jupyter-widgets/controls",
      "_view_module_version": "1.5.0",
      "_view_name": "HTMLView",
      "description": "",
      "description_tooltip": null,
      "layout": "IPY_MODEL_e9727456a22641c98352b317fe81c17c",
      "placeholder": "​",
      "style": "IPY_MODEL_3f11b851e1664a79b3a4874bda1a94ad",
      "value": " 100/100 [00:14&lt;00:00,  8.73it/s]"
     }
    },
    "b83df015b2b44cd39ad0967bdcb9fb9a": {
     "model_module": "@jupyter-widgets/base",
     "model_module_version": "1.2.0",
     "model_name": "LayoutModel",
     "state": {
      "_model_module": "@jupyter-widgets/base",
      "_model_module_version": "1.2.0",
      "_model_name": "LayoutModel",
      "_view_count": null,
      "_view_module": "@jupyter-widgets/base",
      "_view_module_version": "1.2.0",
      "_view_name": "LayoutView",
      "align_content": null,
      "align_items": null,
      "align_self": null,
      "border": null,
      "bottom": null,
      "display": null,
      "flex": null,
      "flex_flow": null,
      "grid_area": null,
      "grid_auto_columns": null,
      "grid_auto_flow": null,
      "grid_auto_rows": null,
      "grid_column": null,
      "grid_gap": null,
      "grid_row": null,
      "grid_template_areas": null,
      "grid_template_columns": null,
      "grid_template_rows": null,
      "height": null,
      "justify_content": null,
      "justify_items": null,
      "left": null,
      "margin": null,
      "max_height": null,
      "max_width": null,
      "min_height": null,
      "min_width": null,
      "object_fit": null,
      "object_position": null,
      "order": null,
      "overflow": null,
      "overflow_x": null,
      "overflow_y": null,
      "padding": null,
      "right": null,
      "top": null,
      "visibility": null,
      "width": null
     }
    },
    "d29eb77168834b80839b4686699c49c2": {
     "model_module": "@jupyter-widgets/controls",
     "model_module_version": "1.5.0",
     "model_name": "FloatProgressModel",
     "state": {
      "_dom_classes": [],
      "_model_module": "@jupyter-widgets/controls",
      "_model_module_version": "1.5.0",
      "_model_name": "FloatProgressModel",
      "_view_count": null,
      "_view_module": "@jupyter-widgets/controls",
      "_view_module_version": "1.5.0",
      "_view_name": "ProgressView",
      "bar_style": "success",
      "description": "",
      "description_tooltip": null,
      "layout": "IPY_MODEL_eb1c8efeb5b04fef9ce35b0c91c42a9b",
      "max": 100,
      "min": 0,
      "orientation": "horizontal",
      "style": "IPY_MODEL_52b82d319bd14276968321c44a52d08f",
      "value": 100
     }
    },
    "e92dc560b0974b4791847fa98d42b014": {
     "model_module": "@jupyter-widgets/controls",
     "model_module_version": "1.5.0",
     "model_name": "HBoxModel",
     "state": {
      "_dom_classes": [],
      "_model_module": "@jupyter-widgets/controls",
      "_model_module_version": "1.5.0",
      "_model_name": "HBoxModel",
      "_view_count": null,
      "_view_module": "@jupyter-widgets/controls",
      "_view_module_version": "1.5.0",
      "_view_name": "HBoxView",
      "box_style": "",
      "children": [
       "IPY_MODEL_562aef17726245ebb46073307bc9120f",
       "IPY_MODEL_d29eb77168834b80839b4686699c49c2",
       "IPY_MODEL_b434bd3cbe8b49629aaab37598272776"
      ],
      "layout": "IPY_MODEL_8aeeb46e126949818bff38cbfa013f99"
     }
    },
    "e9727456a22641c98352b317fe81c17c": {
     "model_module": "@jupyter-widgets/base",
     "model_module_version": "1.2.0",
     "model_name": "LayoutModel",
     "state": {
      "_model_module": "@jupyter-widgets/base",
      "_model_module_version": "1.2.0",
      "_model_name": "LayoutModel",
      "_view_count": null,
      "_view_module": "@jupyter-widgets/base",
      "_view_module_version": "1.2.0",
      "_view_name": "LayoutView",
      "align_content": null,
      "align_items": null,
      "align_self": null,
      "border": null,
      "bottom": null,
      "display": null,
      "flex": null,
      "flex_flow": null,
      "grid_area": null,
      "grid_auto_columns": null,
      "grid_auto_flow": null,
      "grid_auto_rows": null,
      "grid_column": null,
      "grid_gap": null,
      "grid_row": null,
      "grid_template_areas": null,
      "grid_template_columns": null,
      "grid_template_rows": null,
      "height": null,
      "justify_content": null,
      "justify_items": null,
      "left": null,
      "margin": null,
      "max_height": null,
      "max_width": null,
      "min_height": null,
      "min_width": null,
      "object_fit": null,
      "object_position": null,
      "order": null,
      "overflow": null,
      "overflow_x": null,
      "overflow_y": null,
      "padding": null,
      "right": null,
      "top": null,
      "visibility": null,
      "width": null
     }
    },
    "eb1c8efeb5b04fef9ce35b0c91c42a9b": {
     "model_module": "@jupyter-widgets/base",
     "model_module_version": "1.2.0",
     "model_name": "LayoutModel",
     "state": {
      "_model_module": "@jupyter-widgets/base",
      "_model_module_version": "1.2.0",
      "_model_name": "LayoutModel",
      "_view_count": null,
      "_view_module": "@jupyter-widgets/base",
      "_view_module_version": "1.2.0",
      "_view_name": "LayoutView",
      "align_content": null,
      "align_items": null,
      "align_self": null,
      "border": null,
      "bottom": null,
      "display": null,
      "flex": null,
      "flex_flow": null,
      "grid_area": null,
      "grid_auto_columns": null,
      "grid_auto_flow": null,
      "grid_auto_rows": null,
      "grid_column": null,
      "grid_gap": null,
      "grid_row": null,
      "grid_template_areas": null,
      "grid_template_columns": null,
      "grid_template_rows": null,
      "height": null,
      "justify_content": null,
      "justify_items": null,
      "left": null,
      "margin": null,
      "max_height": null,
      "max_width": null,
      "min_height": null,
      "min_width": null,
      "object_fit": null,
      "object_position": null,
      "order": null,
      "overflow": null,
      "overflow_x": null,
      "overflow_y": null,
      "padding": null,
      "right": null,
      "top": null,
      "visibility": null,
      "width": null
     }
    }
   }
  }
 },
 "nbformat": 4,
 "nbformat_minor": 4
}
